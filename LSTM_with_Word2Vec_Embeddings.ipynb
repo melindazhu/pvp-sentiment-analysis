{
  "nbformat": 4,
  "nbformat_minor": 0,
  "metadata": {
    "colab": {
      "name": "LSTM with Word2Vec Embeddings.ipynb",
      "provenance": [],
      "toc_visible": true
    },
    "kernelspec": {
      "name": "python3",
      "display_name": "Python 3"
    },
    "language_info": {
      "name": "python"
    }
  },
  "cells": [
    {
      "cell_type": "markdown",
      "metadata": {
        "id": "6Vf-lqCfM3V1"
      },
      "source": [
        "# LSTM with Word2Vec Embeddings"
      ]
    },
    {
      "cell_type": "markdown",
      "metadata": {
        "id": "FTnP71OAOxuG"
      },
      "source": [
        "Sources:\n",
        "\n",
        "How to embed with Word2Vec - https://www.kaggle.com/vladislavkisin/word2vec-in-supervised-nlp-tasks-shortcut\n",
        "\n",
        "RNN model architecture - https://stackabuse.com/python-for-nlp-multi-label-text-classification-with-keras/#disqus_thread"
      ]
    },
    {
      "cell_type": "markdown",
      "metadata": {
        "id": "0JOMauYJNcvA"
      },
      "source": [
        "# Pre-processing"
      ]
    },
    {
      "cell_type": "markdown",
      "metadata": {
        "id": "kEPuuOA8Mwrz"
      },
      "source": [
        "Imports and loading dataset"
      ]
    },
    {
      "cell_type": "code",
      "metadata": {
        "id": "YuNtnjnsYFRQ"
      },
      "source": [
        "import pandas as pd\n",
        "import nltk\n",
        "import seaborn as sns\n",
        "import re\n",
        "import numpy as np\n",
        "import warnings\n",
        "from nltk.corpus import stopwords\n",
        "from keras.models import Sequential\n",
        "from keras.layers.core import Activation, Dropout, Dense\n",
        "from keras.layers import Flatten, LSTM\n",
        "from keras.layers import GlobalMaxPooling1D\n",
        "from keras.layers import Conv1D\n",
        "from keras.layers import MaxPooling1D\n",
        "from keras.models import Model\n",
        "from keras.layers import Input\n",
        "from keras.preprocessing.sequence import pad_sequences\n",
        "from keras.preprocessing.text import Tokenizer\n",
        "from keras.layers.embeddings import Embedding\n",
        "from sklearn.feature_extraction.text import TfidfVectorizer\n",
        "warnings.filterwarnings(\"ignore\")"
      ],
      "execution_count": null,
      "outputs": []
    },
    {
      "cell_type": "code",
      "metadata": {
        "id": "y2IpeubkbAGC"
      },
      "source": [
        "nltk.download('stopwords')\n",
        "nltk.download('punkt')"
      ],
      "execution_count": null,
      "outputs": []
    },
    {
      "cell_type": "code",
      "metadata": {
        "id": "OOFPwaLsYStj"
      },
      "source": [
        "df = pd.read_csv('train1_full.csv') \n",
        "df.head()"
      ],
      "execution_count": null,
      "outputs": []
    },
    {
      "cell_type": "code",
      "metadata": {
        "id": "RzrcBXLrZL0Z"
      },
      "source": [
        "# Here we get transform the documents into sentences for the word2vecmodel\n",
        "def preprocess(df):\n",
        "    df['comment_text'] = df.comment_text.str.lower()\n",
        "    df['document_sentences'] = df.comment_text.str.split('.') \n",
        "    df['tokenized_sentences'] = list(map(lambda sentences: list(map(nltk.word_tokenize, sentences)), df.document_sentences))  \n",
        "    df['tokenized_sentences'] = list(map(lambda sentences: list(filter(lambda lst: lst, sentences)), df.tokenized_sentences))\n",
        "\n",
        "preprocess(df)"
      ],
      "execution_count": null,
      "outputs": []
    },
    {
      "cell_type": "markdown",
      "metadata": {
        "id": "_-RzvtoSaI0c"
      },
      "source": [
        "Split data into training and test sets"
      ]
    },
    {
      "cell_type": "code",
      "metadata": {
        "id": "HlG5SC_EZWU6"
      },
      "source": [
        "from sklearn.model_selection import train_test_split\n",
        "train, test, y_train, y_test = train_test_split(df.drop(columns='label'), df['label'], test_size=.2)"
      ],
      "execution_count": null,
      "outputs": []
    },
    {
      "cell_type": "code",
      "metadata": {
        "id": "Q9cIgWYjlyvO"
      },
      "source": [
        "def remove_items(test_list, item):\n",
        "    # utility function to remove stop words\n",
        "    for i in test_list:\n",
        "        if(i == item):\n",
        "            test_list.remove(i)\n",
        "  \n",
        "    return test_list"
      ],
      "execution_count": null,
      "outputs": []
    },
    {
      "cell_type": "code",
      "metadata": {
        "id": "X_ovXsHol0ez"
      },
      "source": [
        "def preprocess_text(sen):\n",
        "    sentence = sen.lower()\n",
        "    # Remove punctuations and numbers\n",
        "    sentence = re.sub('[^a-zA-Z]', ' ', sentence)\n",
        "\n",
        "    # Single character removal\n",
        "    sentence = re.sub(r\"\\s+[a-zA-Z]\\s+\", ' ', sentence)\n",
        "\n",
        "    # Removing multiple spaces\n",
        "    sentence = re.sub(r'\\s+', ' ', sentence)\n",
        "\n",
        "    # Remove extra spaces\n",
        "    sentence = re.sub(' +', ' ', sentence)\n",
        "    sentence_list = sentence.split()\n",
        "\n",
        "    # Removing stop words\n",
        "    stop_words = ['u', 'ur', 'im', 'can', 'cant', 'i', 'me', 'my', 'myself', 'we', 'go', 'our', 'ours', 'ourselves', 'you', \"youre\", \"youve\", \"youll\", \"youd\", 'your', 'yours', 'yourself', 'yourselves', 'he', 'him', 'his', 'himself', 'it', 'its', 'itself', 'they', 'them', 'their', 'theirs', 'themselves', 'what', 'which', 'who', 'whom', 'this', 'that', \"thatll\", 'these', 'those', 'am', 'is', 'are', 'was', 'were', 'be', 'been', 'being', 'have', 'has', 'had', 'having', 'do', 'does', 'did', 'doing', 'a', 'an', 'the', 'and', 'but', 'if', 'or', 'because', 'as', 'until', 'while', 'of', 'at', 'by', 'for', 'with', 'about', 'against', 'between', 'into', 'through', 'during', 'before', 'after', 'above', 'below', 'to', 'from', 'up', 'down', 'in', 'out', 'on', 'off', 'over', 'then', 'once', 'here', 'there', 'when', 'where', 'why', 'how', 'all', 'any', 'both', 'each', 'few', 'more', 'most', 'other', 'some', 'such', 'no', 'nor', 'not', 'only', 'own', 'same', 'so', 'than', 'too', 'very', 's', 't', 'can', 'will', 'just', 'don', \"don't\", 'should', \"shouldve\", 'now', 'd', 'll', 'm', 'o', 're', 'r', 'ur', 've', 'y', 'ain', 'aren', \"arent\", 'couldn', \"couldnt\", 'didn', \"didnt\", 'doesn', \"doesnt\", 'hadn', \"hadnt\", 'hasn', \"hasnt\", 'haven', \"havent\", 'isn', \"isnt\", 'ma', 'mightn', \"mightnt\", 'mustn', \"mustnt\", 'needn', \"neednt\", 'shan', \"shant\", 'shouldn', \"shouldnt\", 'wasn', \"wasnt\", 'weren', \"werent\", 'won', \"wont\", 'wouldn', \"wouldnt\"]\n",
        "    for stop_word in stop_words:\n",
        "      if stop_word in sentence_list:\n",
        "        sentence_list = remove_items(sentence_list, stop_word)\n",
        "\n",
        "    # Join back to list\n",
        "    sentence = \" \".join(sentence_list)\n",
        "\n",
        "    # Remove extra spaces\n",
        "    sentence = re.sub(' +', ' ', sentence)\n",
        "    return sentence.lstrip()"
      ],
      "execution_count": null,
      "outputs": []
    },
    {
      "cell_type": "markdown",
      "metadata": {
        "id": "Kcq-m6qHNpxn"
      },
      "source": [
        "Get a list of all messages and labels"
      ]
    },
    {
      "cell_type": "code",
      "metadata": {
        "id": "Z1NSdlRdl3UK"
      },
      "source": [
        "X_train = []\n",
        "sentences = list(train[\"comment_text\"])\n",
        "for sen in sentences:\n",
        "    X_train.append(preprocess_text(sen))\n",
        "\n",
        "from keras.utils.np_utils import to_categorical   \n",
        "categorical_labels = to_categorical(y_train, num_classes=3) # this changes the labels to one-hot encodings!!! don't do it for your models :)"
      ],
      "execution_count": null,
      "outputs": []
    },
    {
      "cell_type": "code",
      "metadata": {
        "id": "UecOcQczmm3K"
      },
      "source": [
        "X_test = []\n",
        "sentences1 = list(test[\"comment_text\"])\n",
        "for sen in sentences1:\n",
        "    X_test.append(preprocess_text(sen))\n",
        "\n",
        "test_categorical_labels = to_categorical(y_test, num_classes=3)"
      ],
      "execution_count": null,
      "outputs": []
    },
    {
      "cell_type": "markdown",
      "metadata": {
        "id": "1Tn40FYcNxqa"
      },
      "source": [
        "# Tokenizing and Word2Vec Embedding"
      ]
    },
    {
      "cell_type": "markdown",
      "metadata": {
        "id": "o_VT7rCyN1IZ"
      },
      "source": [
        "Use the Tokenizer class to convert the sentences into matrices (the X_train and X_test matrices)\n",
        "\n"
      ]
    },
    {
      "cell_type": "code",
      "metadata": {
        "id": "UHcJeR6em2fL"
      },
      "source": [
        "tokenizer = Tokenizer(num_words=1000)\n",
        "tokenizer.fit_on_texts(X_train)\n",
        "\n",
        "X_train = tokenizer.texts_to_sequences(X_train)\n",
        "X_test = tokenizer.texts_to_sequences(X_test)\n",
        "\n",
        "vocab_size = len(tokenizer.word_index) + 1\n",
        "print(vocab_size)\n",
        "maxlen = 10\n",
        "\n",
        "X_train = pad_sequences(X_train, padding='post', maxlen=maxlen)\n",
        "X_test_tokens = pad_sequences(X_test, padding='post', maxlen=maxlen)"
      ],
      "execution_count": null,
      "outputs": []
    },
    {
      "cell_type": "markdown",
      "metadata": {
        "id": "CwM0qberaI3n"
      },
      "source": [
        "Collect a vocabulary"
      ]
    },
    {
      "cell_type": "code",
      "metadata": {
        "id": "K4QNh9EBevUy"
      },
      "source": [
        "def remove_items(test_list, item):\n",
        "    # remove the item for all its occurrences\n",
        "    for i in test_list:\n",
        "        if(i == item):\n",
        "            test_list.remove(i)\n",
        "  \n",
        "    return test_list"
      ],
      "execution_count": null,
      "outputs": []
    },
    {
      "cell_type": "code",
      "metadata": {
        "id": "berG1Ir-aEEq"
      },
      "source": [
        "#Collecting a vocabulary\n",
        "voc = []\n",
        "# top = stopwords.words('english')\n",
        "for sentence in train.tokenized_sentences:\n",
        "    # if len(sentence) == 0:\n",
        "    #   continue\n",
        "    # else:\n",
        "    #   for word in stop:\n",
        "    #       sentence[0] = remove_items(sentence[0], word)\n",
        "    voc.extend(sentence)\n",
        "\n",
        "print(\"Number of sentences: {}.\".format(len(voc)))\n",
        "print(\"Number of rows: {}.\".format(len(train)))"
      ],
      "execution_count": null,
      "outputs": []
    },
    {
      "cell_type": "markdown",
      "metadata": {
        "id": "R8bUXhDjOEiH"
      },
      "source": [
        "Use the Word2Vec embeddings, which will be used in the neural network."
      ]
    },
    {
      "cell_type": "code",
      "metadata": {
        "id": "wWs9HFgceIDm"
      },
      "source": [
        "from gensim.models import word2vec, Word2Vec\n",
        "\n",
        "num_features = 50\n",
        "min_word_count = 1   \n",
        "num_workers = 4       \n",
        "context = 1        \n",
        "downsampling = 1e-3   \n",
        "\n",
        "# Initialize and train the model\n",
        "W2Vmodel = Word2Vec(sentences=voc, sg=1, hs=0, workers=num_workers, size=num_features, min_count=min_word_count, window=context,\n",
        "                    sample=downsampling, negative=5, iter=6)"
      ],
      "execution_count": null,
      "outputs": []
    },
    {
      "cell_type": "code",
      "metadata": {
        "id": "u8vQL2DqfgLu"
      },
      "source": [
        "def sentence_vectors(model, sentence):\n",
        "    #Collecting all words in the text\n",
        "    words = []\n",
        "    if len(sentence) != 0:\n",
        "      words=np.concatenate(sentence)\n",
        "    #Collecting words that are known to the model\n",
        "    model_voc = set(model.wv.vocab.keys()) \n",
        "    \n",
        "    sent_vector = np.zeros(model.vector_size, dtype=\"float32\")\n",
        "    \n",
        "    # Use a counter variable for number of words in a text\n",
        "    nwords = 0\n",
        "    # Sum up all words vectors that are know to the model\n",
        "    for word in words:\n",
        "        if word in model_voc: \n",
        "            sent_vector += model[word]\n",
        "            nwords += 1.\n",
        "\n",
        "    # Now get the average\n",
        "    if nwords > 0:\n",
        "        sent_vector /= nwords\n",
        "    return sent_vector\n",
        "\n",
        "train['sentence_vectors'] = list(map(lambda sen_group:\n",
        "                                      sentence_vectors(W2Vmodel, sen_group),\n",
        "                                      train.tokenized_sentences))"
      ],
      "execution_count": null,
      "outputs": []
    },
    {
      "cell_type": "markdown",
      "metadata": {
        "id": "n8fbxCuROLgu"
      },
      "source": [
        "Create the embeddings matrix that will be entered into the neural network."
      ]
    },
    {
      "cell_type": "code",
      "metadata": {
        "id": "IX7Q4-vbfiqv"
      },
      "source": [
        "def vectors_to_feats(df, ndim):\n",
        "    index=[]\n",
        "    for i in range(ndim):\n",
        "        df[f'w2v_{i}'] = df['sentence_vectors'].apply(lambda x: x[i])\n",
        "        index.append(f'w2v_{i}')\n",
        "    return df[index]\n",
        "embeddings = vectors_to_feats(train, 50)\n",
        "embeddings.head()\n",
        "print(embeddings.shape)"
      ],
      "execution_count": null,
      "outputs": []
    },
    {
      "cell_type": "code",
      "metadata": {
        "id": "RfOjrOcMhSYN"
      },
      "source": [
        "test['sentence_vectors'] = list(map(lambda sen_group:sentence_vectors(W2Vmodel, sen_group), test.tokenized_sentences))\n",
        "X_test=vectors_to_feats(test, 50)"
      ],
      "execution_count": null,
      "outputs": []
    },
    {
      "cell_type": "markdown",
      "metadata": {
        "id": "1SKKy9GLOU2Q"
      },
      "source": [
        "# Creating the Neural Network Model"
      ]
    },
    {
      "cell_type": "markdown",
      "metadata": {
        "id": "CNBEj_pNOYEk"
      },
      "source": [
        "Specify the model architecture"
      ]
    },
    {
      "cell_type": "code",
      "metadata": {
        "id": "zDcHh7kBn7Dc"
      },
      "source": [
        "maxlen = 10\n",
        "deep_inputs = Input(shape=(maxlen,))\n",
        "embedding_layer = Embedding(25766, 50, weights=[embeddings], trainable=False)(deep_inputs)\n",
        "LSTM_Layer_1 = LSTM(50)(embedding_layer)\n",
        "dense_layer_1 = Dense(3, activation='softmax')(LSTM_Layer_1)\n",
        "model = Model(inputs=deep_inputs, outputs=dense_layer_1)\n",
        "\n",
        "model.compile(loss='categorical_crossentropy', optimizer='adam', metrics=['acc'])"
      ],
      "execution_count": null,
      "outputs": []
    },
    {
      "cell_type": "code",
      "metadata": {
        "id": "w1Ehcd1VeAY0"
      },
      "source": [
        "print(model.summary())"
      ],
      "execution_count": null,
      "outputs": []
    },
    {
      "cell_type": "code",
      "metadata": {
        "id": "NbrO0zlHeb1P"
      },
      "source": [
        "from keras.utils import plot_model\n",
        "plot_model(model, to_file='model_plot4a.png', show_shapes=True, show_layer_names=True)"
      ],
      "execution_count": null,
      "outputs": []
    },
    {
      "cell_type": "markdown",
      "metadata": {
        "id": "V2HPAsOYOhrU"
      },
      "source": [
        "# Training and Evaluation"
      ]
    },
    {
      "cell_type": "markdown",
      "metadata": {
        "id": "ubwfCBA8OcY0"
      },
      "source": [
        "Train the model for 300 epochs"
      ]
    },
    {
      "cell_type": "code",
      "metadata": {
        "id": "7fuNDV0QgzYc",
        "colab": {
          "base_uri": "https://localhost:8080/"
        },
        "outputId": "66eee6e7-c591-4c6f-959b-fa4a66b042b7"
      },
      "source": [
        "history = model.fit(X_train, categorical_labels, batch_size=40, epochs=300, verbose=1, validation_split=0.20)"
      ],
      "execution_count": null,
      "outputs": [
        {
          "output_type": "stream",
          "text": [
            "Epoch 1/300\n",
            "516/516 [==============================] - 6s 8ms/step - loss: 0.8382 - acc: 0.5706 - val_loss: 0.8288 - val_acc: 0.5846\n",
            "Epoch 2/300\n",
            "516/516 [==============================] - 3s 6ms/step - loss: 0.8225 - acc: 0.5903 - val_loss: 0.8118 - val_acc: 0.5881\n",
            "Epoch 3/300\n",
            "516/516 [==============================] - 3s 6ms/step - loss: 0.8034 - acc: 0.5856 - val_loss: 0.8056 - val_acc: 0.5891\n",
            "Epoch 4/300\n",
            "516/516 [==============================] - 3s 6ms/step - loss: 0.7699 - acc: 0.5886 - val_loss: 0.7639 - val_acc: 0.6024\n",
            "Epoch 5/300\n",
            "516/516 [==============================] - 3s 6ms/step - loss: 0.7557 - acc: 0.5931 - val_loss: 0.7369 - val_acc: 0.6009\n",
            "Epoch 6/300\n",
            "516/516 [==============================] - 3s 6ms/step - loss: 0.7388 - acc: 0.5953 - val_loss: 0.7281 - val_acc: 0.6017\n",
            "Epoch 7/300\n",
            "516/516 [==============================] - 3s 6ms/step - loss: 0.7212 - acc: 0.6118 - val_loss: 0.7390 - val_acc: 0.5799\n",
            "Epoch 8/300\n",
            "516/516 [==============================] - 3s 6ms/step - loss: 0.7347 - acc: 0.6200 - val_loss: 0.7173 - val_acc: 0.6445\n",
            "Epoch 9/300\n",
            "516/516 [==============================] - 3s 6ms/step - loss: 0.7173 - acc: 0.6346 - val_loss: 0.7082 - val_acc: 0.6610\n",
            "Epoch 10/300\n",
            "516/516 [==============================] - 3s 6ms/step - loss: 0.6945 - acc: 0.6604 - val_loss: 0.6871 - val_acc: 0.6921\n",
            "Epoch 11/300\n",
            "516/516 [==============================] - 3s 6ms/step - loss: 0.6902 - acc: 0.6818 - val_loss: 0.6717 - val_acc: 0.6954\n",
            "Epoch 12/300\n",
            "516/516 [==============================] - 3s 6ms/step - loss: 0.6646 - acc: 0.6976 - val_loss: 0.6705 - val_acc: 0.6841\n",
            "Epoch 13/300\n",
            "516/516 [==============================] - 3s 6ms/step - loss: 0.6488 - acc: 0.7102 - val_loss: 0.6486 - val_acc: 0.7014\n",
            "Epoch 14/300\n",
            "516/516 [==============================] - 3s 6ms/step - loss: 0.6425 - acc: 0.7150 - val_loss: 0.6467 - val_acc: 0.7222\n",
            "Epoch 15/300\n",
            "516/516 [==============================] - 3s 6ms/step - loss: 0.6362 - acc: 0.7232 - val_loss: 0.6171 - val_acc: 0.7452\n",
            "Epoch 16/300\n",
            "516/516 [==============================] - 3s 6ms/step - loss: 0.6165 - acc: 0.7358 - val_loss: 0.6275 - val_acc: 0.7385\n",
            "Epoch 17/300\n",
            "516/516 [==============================] - 3s 6ms/step - loss: 0.6107 - acc: 0.7487 - val_loss: 0.6219 - val_acc: 0.7388\n",
            "Epoch 18/300\n",
            "516/516 [==============================] - 3s 6ms/step - loss: 0.6016 - acc: 0.7517 - val_loss: 0.6271 - val_acc: 0.7309\n",
            "Epoch 19/300\n",
            "516/516 [==============================] - 3s 6ms/step - loss: 0.5973 - acc: 0.7527 - val_loss: 0.5961 - val_acc: 0.7621\n",
            "Epoch 20/300\n",
            "516/516 [==============================] - 3s 6ms/step - loss: 0.5895 - acc: 0.7579 - val_loss: 0.6258 - val_acc: 0.7342\n",
            "Epoch 21/300\n",
            "516/516 [==============================] - 3s 6ms/step - loss: 0.5796 - acc: 0.7676 - val_loss: 0.5705 - val_acc: 0.7744\n",
            "Epoch 22/300\n",
            "516/516 [==============================] - 3s 6ms/step - loss: 0.5696 - acc: 0.7652 - val_loss: 0.5926 - val_acc: 0.7615\n",
            "Epoch 23/300\n",
            "516/516 [==============================] - 3s 6ms/step - loss: 0.5705 - acc: 0.7705 - val_loss: 0.5703 - val_acc: 0.7780\n",
            "Epoch 24/300\n",
            "516/516 [==============================] - 3s 6ms/step - loss: 0.5411 - acc: 0.7906 - val_loss: 0.5574 - val_acc: 0.7829\n",
            "Epoch 25/300\n",
            "516/516 [==============================] - 3s 6ms/step - loss: 0.5511 - acc: 0.7786 - val_loss: 0.5626 - val_acc: 0.7753\n",
            "Epoch 26/300\n",
            "516/516 [==============================] - 3s 6ms/step - loss: 0.5454 - acc: 0.7861 - val_loss: 0.5508 - val_acc: 0.7811\n",
            "Epoch 27/300\n",
            "516/516 [==============================] - 3s 6ms/step - loss: 0.5301 - acc: 0.7914 - val_loss: 0.5346 - val_acc: 0.7939\n",
            "Epoch 28/300\n",
            "516/516 [==============================] - 3s 6ms/step - loss: 0.5308 - acc: 0.7896 - val_loss: 0.5536 - val_acc: 0.7819\n",
            "Epoch 29/300\n",
            "516/516 [==============================] - 3s 7ms/step - loss: 0.5186 - acc: 0.7957 - val_loss: 0.5512 - val_acc: 0.7815\n",
            "Epoch 30/300\n",
            "516/516 [==============================] - 3s 7ms/step - loss: 0.5227 - acc: 0.7991 - val_loss: 0.5293 - val_acc: 0.7984\n",
            "Epoch 31/300\n",
            "516/516 [==============================] - 3s 6ms/step - loss: 0.5054 - acc: 0.8041 - val_loss: 0.5367 - val_acc: 0.7916\n",
            "Epoch 32/300\n",
            "516/516 [==============================] - 3s 7ms/step - loss: 0.5124 - acc: 0.7991 - val_loss: 0.5178 - val_acc: 0.8044\n",
            "Epoch 33/300\n",
            "516/516 [==============================] - 3s 7ms/step - loss: 0.4912 - acc: 0.8098 - val_loss: 0.5159 - val_acc: 0.7996\n",
            "Epoch 34/300\n",
            "516/516 [==============================] - 3s 7ms/step - loss: 0.5007 - acc: 0.8036 - val_loss: 0.5200 - val_acc: 0.7959\n",
            "Epoch 35/300\n",
            "516/516 [==============================] - 3s 7ms/step - loss: 0.5022 - acc: 0.8006 - val_loss: 0.5052 - val_acc: 0.8013\n",
            "Epoch 36/300\n",
            "516/516 [==============================] - 3s 7ms/step - loss: 0.4804 - acc: 0.8136 - val_loss: 0.5112 - val_acc: 0.8031\n",
            "Epoch 37/300\n",
            "516/516 [==============================] - 3s 6ms/step - loss: 0.4801 - acc: 0.8118 - val_loss: 0.5094 - val_acc: 0.8036\n",
            "Epoch 38/300\n",
            "516/516 [==============================] - 3s 6ms/step - loss: 0.4787 - acc: 0.8151 - val_loss: 0.5184 - val_acc: 0.8027\n",
            "Epoch 39/300\n",
            "516/516 [==============================] - 3s 6ms/step - loss: 0.4780 - acc: 0.8177 - val_loss: 0.4951 - val_acc: 0.8066\n",
            "Epoch 40/300\n",
            "516/516 [==============================] - 3s 6ms/step - loss: 0.4722 - acc: 0.8149 - val_loss: 0.5125 - val_acc: 0.7971\n",
            "Epoch 41/300\n",
            "516/516 [==============================] - 3s 6ms/step - loss: 0.4635 - acc: 0.8207 - val_loss: 0.5224 - val_acc: 0.8019\n",
            "Epoch 42/300\n",
            "516/516 [==============================] - 3s 6ms/step - loss: 0.4820 - acc: 0.8147 - val_loss: 0.4974 - val_acc: 0.8099\n",
            "Epoch 43/300\n",
            "516/516 [==============================] - 3s 6ms/step - loss: 0.4472 - acc: 0.8301 - val_loss: 0.5191 - val_acc: 0.8031\n",
            "Epoch 44/300\n",
            "516/516 [==============================] - 3s 6ms/step - loss: 0.4523 - acc: 0.8261 - val_loss: 0.4981 - val_acc: 0.8126\n",
            "Epoch 45/300\n",
            "516/516 [==============================] - 3s 6ms/step - loss: 0.4457 - acc: 0.8303 - val_loss: 0.5125 - val_acc: 0.7934\n",
            "Epoch 46/300\n",
            "516/516 [==============================] - 3s 6ms/step - loss: 0.4425 - acc: 0.8302 - val_loss: 0.4946 - val_acc: 0.8128\n",
            "Epoch 47/300\n",
            "516/516 [==============================] - 3s 6ms/step - loss: 0.4352 - acc: 0.8298 - val_loss: 0.4693 - val_acc: 0.8256\n",
            "Epoch 48/300\n",
            "516/516 [==============================] - 3s 6ms/step - loss: 0.4290 - acc: 0.8412 - val_loss: 0.4957 - val_acc: 0.8170\n",
            "Epoch 49/300\n",
            "516/516 [==============================] - 3s 6ms/step - loss: 0.4297 - acc: 0.8364 - val_loss: 0.4570 - val_acc: 0.8273\n",
            "Epoch 50/300\n",
            "516/516 [==============================] - 3s 6ms/step - loss: 0.4243 - acc: 0.8392 - val_loss: 0.4553 - val_acc: 0.8223\n",
            "Epoch 51/300\n",
            "516/516 [==============================] - 3s 6ms/step - loss: 0.4089 - acc: 0.8446 - val_loss: 0.4703 - val_acc: 0.8236\n",
            "Epoch 52/300\n",
            "516/516 [==============================] - 3s 6ms/step - loss: 0.4167 - acc: 0.8418 - val_loss: 0.4599 - val_acc: 0.8260\n",
            "Epoch 53/300\n",
            "516/516 [==============================] - 3s 6ms/step - loss: 0.3997 - acc: 0.8502 - val_loss: 0.4389 - val_acc: 0.8393\n",
            "Epoch 54/300\n",
            "516/516 [==============================] - 3s 7ms/step - loss: 0.3975 - acc: 0.8502 - val_loss: 0.4479 - val_acc: 0.8337\n",
            "Epoch 55/300\n",
            "516/516 [==============================] - 3s 7ms/step - loss: 0.3963 - acc: 0.8523 - val_loss: 0.4386 - val_acc: 0.8376\n",
            "Epoch 56/300\n",
            "516/516 [==============================] - 3s 6ms/step - loss: 0.3916 - acc: 0.8526 - val_loss: 0.4331 - val_acc: 0.8349\n",
            "Epoch 57/300\n",
            "516/516 [==============================] - 3s 6ms/step - loss: 0.3867 - acc: 0.8540 - val_loss: 0.4501 - val_acc: 0.8359\n",
            "Epoch 58/300\n",
            "516/516 [==============================] - 3s 6ms/step - loss: 0.3753 - acc: 0.8603 - val_loss: 0.4262 - val_acc: 0.8458\n",
            "Epoch 59/300\n",
            "516/516 [==============================] - 3s 6ms/step - loss: 0.3651 - acc: 0.8670 - val_loss: 0.4217 - val_acc: 0.8436\n",
            "Epoch 60/300\n",
            "516/516 [==============================] - 3s 6ms/step - loss: 0.3705 - acc: 0.8602 - val_loss: 0.4089 - val_acc: 0.8518\n",
            "Epoch 61/300\n",
            "516/516 [==============================] - 3s 6ms/step - loss: 0.3662 - acc: 0.8659 - val_loss: 0.4106 - val_acc: 0.8549\n",
            "Epoch 62/300\n",
            "516/516 [==============================] - 3s 7ms/step - loss: 0.3597 - acc: 0.8623 - val_loss: 0.4107 - val_acc: 0.8562\n",
            "Epoch 63/300\n",
            "516/516 [==============================] - 3s 7ms/step - loss: 0.3603 - acc: 0.8653 - val_loss: 0.4152 - val_acc: 0.8512\n",
            "Epoch 64/300\n",
            "516/516 [==============================] - 3s 7ms/step - loss: 0.3451 - acc: 0.8727 - val_loss: 0.4457 - val_acc: 0.8362\n",
            "Epoch 65/300\n",
            "516/516 [==============================] - 3s 7ms/step - loss: 0.3508 - acc: 0.8718 - val_loss: 0.4077 - val_acc: 0.8529\n",
            "Epoch 66/300\n",
            "516/516 [==============================] - 3s 7ms/step - loss: 0.3382 - acc: 0.8742 - val_loss: 0.3896 - val_acc: 0.8570\n",
            "Epoch 67/300\n",
            "516/516 [==============================] - 3s 6ms/step - loss: 0.3343 - acc: 0.8744 - val_loss: 0.3826 - val_acc: 0.8599\n",
            "Epoch 68/300\n",
            "516/516 [==============================] - 3s 7ms/step - loss: 0.3358 - acc: 0.8765 - val_loss: 0.4233 - val_acc: 0.8506\n",
            "Epoch 69/300\n",
            "516/516 [==============================] - 3s 7ms/step - loss: 0.3452 - acc: 0.8708 - val_loss: 0.3776 - val_acc: 0.8685\n",
            "Epoch 70/300\n",
            "516/516 [==============================] - 3s 6ms/step - loss: 0.3151 - acc: 0.8874 - val_loss: 0.3894 - val_acc: 0.8607\n",
            "Epoch 71/300\n",
            "516/516 [==============================] - 3s 7ms/step - loss: 0.3200 - acc: 0.8822 - val_loss: 0.3957 - val_acc: 0.8518\n",
            "Epoch 72/300\n",
            "516/516 [==============================] - 3s 6ms/step - loss: 0.3075 - acc: 0.8875 - val_loss: 0.3754 - val_acc: 0.8620\n",
            "Epoch 73/300\n",
            "516/516 [==============================] - 3s 6ms/step - loss: 0.3231 - acc: 0.8802 - val_loss: 0.4217 - val_acc: 0.8417\n",
            "Epoch 74/300\n",
            "516/516 [==============================] - 3s 7ms/step - loss: 0.3112 - acc: 0.8851 - val_loss: 0.3519 - val_acc: 0.8743\n",
            "Epoch 75/300\n",
            "516/516 [==============================] - 3s 7ms/step - loss: 0.3020 - acc: 0.8910 - val_loss: 0.3860 - val_acc: 0.8617\n",
            "Epoch 76/300\n",
            "516/516 [==============================] - 3s 6ms/step - loss: 0.3170 - acc: 0.8822 - val_loss: 0.3729 - val_acc: 0.8704\n",
            "Epoch 77/300\n",
            "516/516 [==============================] - 3s 7ms/step - loss: 0.3146 - acc: 0.8846 - val_loss: 0.3680 - val_acc: 0.8644\n",
            "Epoch 78/300\n",
            "516/516 [==============================] - 3s 6ms/step - loss: 0.2936 - acc: 0.8929 - val_loss: 0.4076 - val_acc: 0.8467\n",
            "Epoch 79/300\n",
            "516/516 [==============================] - 3s 7ms/step - loss: 0.3103 - acc: 0.8862 - val_loss: 0.3470 - val_acc: 0.8766\n",
            "Epoch 80/300\n",
            "516/516 [==============================] - 3s 6ms/step - loss: 0.2903 - acc: 0.8959 - val_loss: 0.3880 - val_acc: 0.8617\n",
            "Epoch 81/300\n",
            "516/516 [==============================] - 3s 7ms/step - loss: 0.2904 - acc: 0.8964 - val_loss: 0.3396 - val_acc: 0.8820\n",
            "Epoch 82/300\n",
            "516/516 [==============================] - 3s 6ms/step - loss: 0.2822 - acc: 0.8971 - val_loss: 0.3676 - val_acc: 0.8688\n",
            "Epoch 83/300\n",
            "516/516 [==============================] - 3s 6ms/step - loss: 0.2932 - acc: 0.8918 - val_loss: 0.3309 - val_acc: 0.8842\n",
            "Epoch 84/300\n",
            "516/516 [==============================] - 3s 6ms/step - loss: 0.2866 - acc: 0.8981 - val_loss: 0.3517 - val_acc: 0.8807\n",
            "Epoch 85/300\n",
            "516/516 [==============================] - 3s 7ms/step - loss: 0.2900 - acc: 0.8944 - val_loss: 0.3492 - val_acc: 0.8741\n",
            "Epoch 86/300\n",
            "516/516 [==============================] - 3s 6ms/step - loss: 0.2662 - acc: 0.9030 - val_loss: 0.3353 - val_acc: 0.8818\n",
            "Epoch 87/300\n",
            "516/516 [==============================] - 3s 7ms/step - loss: 0.2780 - acc: 0.8991 - val_loss: 0.3399 - val_acc: 0.8805\n",
            "Epoch 88/300\n",
            "516/516 [==============================] - 3s 7ms/step - loss: 0.2839 - acc: 0.8978 - val_loss: 0.3400 - val_acc: 0.8813\n",
            "Epoch 89/300\n",
            "516/516 [==============================] - 3s 6ms/step - loss: 0.2774 - acc: 0.9007 - val_loss: 0.3648 - val_acc: 0.8669\n",
            "Epoch 90/300\n",
            "516/516 [==============================] - 3s 7ms/step - loss: 0.2741 - acc: 0.9013 - val_loss: 0.3402 - val_acc: 0.8828\n",
            "Epoch 91/300\n",
            "516/516 [==============================] - 3s 6ms/step - loss: 0.2561 - acc: 0.9104 - val_loss: 0.3067 - val_acc: 0.8906\n",
            "Epoch 92/300\n",
            "516/516 [==============================] - 3s 6ms/step - loss: 0.2484 - acc: 0.9137 - val_loss: 0.3068 - val_acc: 0.8910\n",
            "Epoch 93/300\n",
            "516/516 [==============================] - 3s 6ms/step - loss: 0.2717 - acc: 0.9020 - val_loss: 0.3374 - val_acc: 0.8830\n",
            "Epoch 94/300\n",
            "516/516 [==============================] - 3s 6ms/step - loss: 0.2729 - acc: 0.9017 - val_loss: 0.3037 - val_acc: 0.8948\n",
            "Epoch 95/300\n",
            "516/516 [==============================] - 3s 7ms/step - loss: 0.2524 - acc: 0.9113 - val_loss: 0.3762 - val_acc: 0.8677\n",
            "Epoch 96/300\n",
            "516/516 [==============================] - 3s 7ms/step - loss: 0.2658 - acc: 0.9066 - val_loss: 0.3205 - val_acc: 0.8863\n",
            "Epoch 97/300\n",
            "516/516 [==============================] - 3s 7ms/step - loss: 0.2537 - acc: 0.9103 - val_loss: 0.2975 - val_acc: 0.8960\n",
            "Epoch 98/300\n",
            "516/516 [==============================] - 3s 7ms/step - loss: 0.2400 - acc: 0.9143 - val_loss: 0.2954 - val_acc: 0.8999\n",
            "Epoch 99/300\n",
            "516/516 [==============================] - 3s 7ms/step - loss: 0.2446 - acc: 0.9137 - val_loss: 0.2907 - val_acc: 0.9030\n",
            "Epoch 100/300\n",
            "516/516 [==============================] - 4s 9ms/step - loss: 0.2469 - acc: 0.9125 - val_loss: 0.3367 - val_acc: 0.8859\n",
            "Epoch 101/300\n",
            "516/516 [==============================] - 4s 8ms/step - loss: 0.2475 - acc: 0.9141 - val_loss: 0.3279 - val_acc: 0.8865\n",
            "Epoch 102/300\n",
            "516/516 [==============================] - 3s 6ms/step - loss: 0.2548 - acc: 0.9116 - val_loss: 0.2870 - val_acc: 0.9001\n",
            "Epoch 103/300\n",
            "516/516 [==============================] - 3s 7ms/step - loss: 0.2384 - acc: 0.9169 - val_loss: 0.2846 - val_acc: 0.9047\n",
            "Epoch 104/300\n",
            "516/516 [==============================] - 3s 7ms/step - loss: 0.2387 - acc: 0.9159 - val_loss: 0.2754 - val_acc: 0.9055\n",
            "Epoch 105/300\n",
            "516/516 [==============================] - 3s 7ms/step - loss: 0.2233 - acc: 0.9220 - val_loss: 0.3608 - val_acc: 0.8815\n",
            "Epoch 106/300\n",
            "516/516 [==============================] - 3s 7ms/step - loss: 0.2441 - acc: 0.9126 - val_loss: 0.2961 - val_acc: 0.8977\n",
            "Epoch 107/300\n",
            "516/516 [==============================] - 3s 7ms/step - loss: 0.2260 - acc: 0.9191 - val_loss: 0.2762 - val_acc: 0.9065\n",
            "Epoch 108/300\n",
            "516/516 [==============================] - 4s 7ms/step - loss: 0.2595 - acc: 0.9125 - val_loss: 0.2819 - val_acc: 0.9053\n",
            "Epoch 109/300\n",
            "516/516 [==============================] - 4s 7ms/step - loss: 0.2321 - acc: 0.9196 - val_loss: 0.2636 - val_acc: 0.9125\n",
            "Epoch 110/300\n",
            "516/516 [==============================] - 3s 7ms/step - loss: 0.2452 - acc: 0.9133 - val_loss: 0.2875 - val_acc: 0.8985\n",
            "Epoch 111/300\n",
            "516/516 [==============================] - 3s 7ms/step - loss: 0.2221 - acc: 0.9247 - val_loss: 0.2834 - val_acc: 0.9051\n",
            "Epoch 112/300\n",
            "516/516 [==============================] - 3s 7ms/step - loss: 0.2144 - acc: 0.9278 - val_loss: 0.3005 - val_acc: 0.8985\n",
            "Epoch 113/300\n",
            "516/516 [==============================] - 3s 7ms/step - loss: 0.2208 - acc: 0.9254 - val_loss: 0.2837 - val_acc: 0.9043\n",
            "Epoch 114/300\n",
            "516/516 [==============================] - 3s 7ms/step - loss: 0.2216 - acc: 0.9232 - val_loss: 0.2712 - val_acc: 0.9094\n",
            "Epoch 115/300\n",
            "516/516 [==============================] - 3s 7ms/step - loss: 0.2293 - acc: 0.9206 - val_loss: 0.2949 - val_acc: 0.8981\n",
            "Epoch 116/300\n",
            "516/516 [==============================] - 3s 7ms/step - loss: 0.2293 - acc: 0.9225 - val_loss: 0.2938 - val_acc: 0.9049\n",
            "Epoch 117/300\n",
            "516/516 [==============================] - 3s 7ms/step - loss: 0.2124 - acc: 0.9266 - val_loss: 0.3050 - val_acc: 0.8981\n",
            "Epoch 118/300\n",
            "516/516 [==============================] - 3s 7ms/step - loss: 0.2179 - acc: 0.9253 - val_loss: 0.2952 - val_acc: 0.8983\n",
            "Epoch 119/300\n",
            "516/516 [==============================] - 3s 7ms/step - loss: 0.2333 - acc: 0.9173 - val_loss: 0.2931 - val_acc: 0.9020\n",
            "Epoch 120/300\n",
            "516/516 [==============================] - 3s 7ms/step - loss: 0.2256 - acc: 0.9242 - val_loss: 0.2722 - val_acc: 0.9069\n",
            "Epoch 121/300\n",
            "516/516 [==============================] - 3s 7ms/step - loss: 0.2083 - acc: 0.9310 - val_loss: 0.2750 - val_acc: 0.9082\n",
            "Epoch 122/300\n",
            "516/516 [==============================] - 3s 7ms/step - loss: 0.1970 - acc: 0.9330 - val_loss: 0.2505 - val_acc: 0.9181\n",
            "Epoch 123/300\n",
            "516/516 [==============================] - 3s 7ms/step - loss: 0.2041 - acc: 0.9280 - val_loss: 0.2660 - val_acc: 0.9142\n",
            "Epoch 124/300\n",
            "516/516 [==============================] - 3s 7ms/step - loss: 0.2069 - acc: 0.9296 - val_loss: 0.2552 - val_acc: 0.9131\n",
            "Epoch 125/300\n",
            "516/516 [==============================] - 3s 7ms/step - loss: 0.1942 - acc: 0.9335 - val_loss: 0.2810 - val_acc: 0.9084\n",
            "Epoch 126/300\n",
            "516/516 [==============================] - 3s 7ms/step - loss: 0.2162 - acc: 0.9259 - val_loss: 0.2593 - val_acc: 0.9162\n",
            "Epoch 127/300\n",
            "516/516 [==============================] - 3s 7ms/step - loss: 0.2028 - acc: 0.9317 - val_loss: 0.2550 - val_acc: 0.9123\n",
            "Epoch 128/300\n",
            "516/516 [==============================] - 3s 6ms/step - loss: 0.2049 - acc: 0.9312 - val_loss: 0.2549 - val_acc: 0.9179\n",
            "Epoch 129/300\n",
            "516/516 [==============================] - 3s 7ms/step - loss: 0.1982 - acc: 0.9325 - val_loss: 0.3126 - val_acc: 0.8958\n",
            "Epoch 130/300\n",
            "516/516 [==============================] - 3s 7ms/step - loss: 0.1982 - acc: 0.9313 - val_loss: 0.2777 - val_acc: 0.9076\n",
            "Epoch 131/300\n",
            "516/516 [==============================] - 3s 7ms/step - loss: 0.2012 - acc: 0.9312 - val_loss: 0.2414 - val_acc: 0.9216\n",
            "Epoch 132/300\n",
            "516/516 [==============================] - 3s 6ms/step - loss: 0.1939 - acc: 0.9358 - val_loss: 0.2964 - val_acc: 0.8997\n",
            "Epoch 133/300\n",
            "516/516 [==============================] - 3s 7ms/step - loss: 0.1943 - acc: 0.9361 - val_loss: 0.2367 - val_acc: 0.9230\n",
            "Epoch 134/300\n",
            "516/516 [==============================] - 3s 7ms/step - loss: 0.2071 - acc: 0.9314 - val_loss: 0.2530 - val_acc: 0.9158\n",
            "Epoch 135/300\n",
            "516/516 [==============================] - 3s 7ms/step - loss: 0.2057 - acc: 0.9295 - val_loss: 0.2630 - val_acc: 0.9166\n",
            "Epoch 136/300\n",
            "516/516 [==============================] - 3s 7ms/step - loss: 0.1895 - acc: 0.9343 - val_loss: 0.2457 - val_acc: 0.9259\n",
            "Epoch 137/300\n",
            "516/516 [==============================] - 3s 6ms/step - loss: 0.1976 - acc: 0.9319 - val_loss: 0.2384 - val_acc: 0.9199\n",
            "Epoch 138/300\n",
            "516/516 [==============================] - 3s 6ms/step - loss: 0.1773 - acc: 0.9390 - val_loss: 0.2621 - val_acc: 0.9100\n",
            "Epoch 139/300\n",
            "516/516 [==============================] - 3s 7ms/step - loss: 0.1960 - acc: 0.9352 - val_loss: 0.2349 - val_acc: 0.9282\n",
            "Epoch 140/300\n",
            "516/516 [==============================] - 3s 6ms/step - loss: 0.1751 - acc: 0.9410 - val_loss: 0.2776 - val_acc: 0.9133\n",
            "Epoch 141/300\n",
            "516/516 [==============================] - 3s 6ms/step - loss: 0.2074 - acc: 0.9282 - val_loss: 0.2314 - val_acc: 0.9261\n",
            "Epoch 142/300\n",
            "516/516 [==============================] - 3s 7ms/step - loss: 0.1851 - acc: 0.9387 - val_loss: 0.2908 - val_acc: 0.9049\n",
            "Epoch 143/300\n",
            "516/516 [==============================] - 3s 7ms/step - loss: 0.2113 - acc: 0.9286 - val_loss: 0.2264 - val_acc: 0.9311\n",
            "Epoch 144/300\n",
            "516/516 [==============================] - 3s 6ms/step - loss: 0.1741 - acc: 0.9431 - val_loss: 0.2578 - val_acc: 0.9146\n",
            "Epoch 145/300\n",
            "516/516 [==============================] - 3s 7ms/step - loss: 0.2330 - acc: 0.9211 - val_loss: 0.2478 - val_acc: 0.9193\n",
            "Epoch 146/300\n",
            "516/516 [==============================] - 3s 7ms/step - loss: 0.1731 - acc: 0.9425 - val_loss: 0.3567 - val_acc: 0.8820\n",
            "Epoch 147/300\n",
            "516/516 [==============================] - 3s 7ms/step - loss: 0.2251 - acc: 0.9197 - val_loss: 0.2338 - val_acc: 0.9257\n",
            "Epoch 148/300\n",
            "516/516 [==============================] - 3s 7ms/step - loss: 0.1778 - acc: 0.9407 - val_loss: 0.2395 - val_acc: 0.9195\n",
            "Epoch 149/300\n",
            "516/516 [==============================] - 3s 7ms/step - loss: 0.1771 - acc: 0.9414 - val_loss: 0.2661 - val_acc: 0.9096\n",
            "Epoch 150/300\n",
            "516/516 [==============================] - 3s 7ms/step - loss: 0.1951 - acc: 0.9357 - val_loss: 0.2247 - val_acc: 0.9276\n",
            "Epoch 151/300\n",
            "516/516 [==============================] - 3s 6ms/step - loss: 0.1815 - acc: 0.9395 - val_loss: 0.2335 - val_acc: 0.9257\n",
            "Epoch 152/300\n",
            "516/516 [==============================] - 3s 7ms/step - loss: 0.1664 - acc: 0.9456 - val_loss: 0.2650 - val_acc: 0.9107\n",
            "Epoch 153/300\n",
            "516/516 [==============================] - 3s 6ms/step - loss: 0.1841 - acc: 0.9367 - val_loss: 0.2138 - val_acc: 0.9317\n",
            "Epoch 154/300\n",
            "516/516 [==============================] - 3s 6ms/step - loss: 0.2236 - acc: 0.9243 - val_loss: 0.2366 - val_acc: 0.9222\n",
            "Epoch 155/300\n",
            "516/516 [==============================] - 3s 6ms/step - loss: 0.1734 - acc: 0.9412 - val_loss: 0.2157 - val_acc: 0.9336\n",
            "Epoch 156/300\n",
            "516/516 [==============================] - 3s 7ms/step - loss: 0.1671 - acc: 0.9434 - val_loss: 0.2623 - val_acc: 0.9127\n",
            "Epoch 157/300\n",
            "516/516 [==============================] - 3s 6ms/step - loss: 0.2028 - acc: 0.9306 - val_loss: 0.2381 - val_acc: 0.9255\n",
            "Epoch 158/300\n",
            "516/516 [==============================] - 3s 7ms/step - loss: 0.1659 - acc: 0.9443 - val_loss: 0.2393 - val_acc: 0.9263\n",
            "Epoch 159/300\n",
            "516/516 [==============================] - 3s 7ms/step - loss: 0.2197 - acc: 0.9248 - val_loss: 0.3025 - val_acc: 0.9003\n",
            "Epoch 160/300\n",
            "516/516 [==============================] - 4s 7ms/step - loss: 0.1727 - acc: 0.9431 - val_loss: 0.2552 - val_acc: 0.9150\n",
            "Epoch 161/300\n",
            "516/516 [==============================] - 3s 7ms/step - loss: 0.1646 - acc: 0.9460 - val_loss: 0.2166 - val_acc: 0.9350\n",
            "Epoch 162/300\n",
            "516/516 [==============================] - 3s 7ms/step - loss: 0.1583 - acc: 0.9475 - val_loss: 0.2419 - val_acc: 0.9203\n",
            "Epoch 163/300\n",
            "516/516 [==============================] - 3s 7ms/step - loss: 0.1967 - acc: 0.9356 - val_loss: 0.2032 - val_acc: 0.9385\n",
            "Epoch 164/300\n",
            "516/516 [==============================] - 3s 7ms/step - loss: 0.1694 - acc: 0.9435 - val_loss: 0.2361 - val_acc: 0.9222\n",
            "Epoch 165/300\n",
            "516/516 [==============================] - 4s 7ms/step - loss: 0.1604 - acc: 0.9484 - val_loss: 0.2114 - val_acc: 0.9333\n",
            "Epoch 166/300\n",
            "516/516 [==============================] - 3s 7ms/step - loss: 0.1869 - acc: 0.9370 - val_loss: 0.3195 - val_acc: 0.8910\n",
            "Epoch 167/300\n",
            "516/516 [==============================] - 4s 7ms/step - loss: 0.1913 - acc: 0.9349 - val_loss: 0.2220 - val_acc: 0.9323\n",
            "Epoch 168/300\n",
            "516/516 [==============================] - 3s 7ms/step - loss: 0.1844 - acc: 0.9356 - val_loss: 0.2216 - val_acc: 0.9321\n",
            "Epoch 169/300\n",
            "516/516 [==============================] - 3s 7ms/step - loss: 0.1605 - acc: 0.9485 - val_loss: 0.2129 - val_acc: 0.9323\n",
            "Epoch 170/300\n",
            "516/516 [==============================] - 3s 7ms/step - loss: 0.1699 - acc: 0.9406 - val_loss: 0.2500 - val_acc: 0.9187\n",
            "Epoch 171/300\n",
            "516/516 [==============================] - 3s 7ms/step - loss: 0.1655 - acc: 0.9448 - val_loss: 0.2142 - val_acc: 0.9334\n",
            "Epoch 172/300\n",
            "516/516 [==============================] - 3s 7ms/step - loss: 0.1479 - acc: 0.9508 - val_loss: 0.2155 - val_acc: 0.9298\n",
            "Epoch 173/300\n",
            "516/516 [==============================] - 3s 7ms/step - loss: 0.1715 - acc: 0.9428 - val_loss: 0.2341 - val_acc: 0.9216\n",
            "Epoch 174/300\n",
            "516/516 [==============================] - 3s 6ms/step - loss: 0.1781 - acc: 0.9401 - val_loss: 0.2167 - val_acc: 0.9311\n",
            "Epoch 175/300\n",
            "516/516 [==============================] - 3s 7ms/step - loss: 0.1602 - acc: 0.9458 - val_loss: 0.2229 - val_acc: 0.9298\n",
            "Epoch 176/300\n",
            "516/516 [==============================] - 3s 7ms/step - loss: 0.1668 - acc: 0.9440 - val_loss: 0.1973 - val_acc: 0.9364\n",
            "Epoch 177/300\n",
            "516/516 [==============================] - 3s 7ms/step - loss: 0.1918 - acc: 0.9353 - val_loss: 0.2206 - val_acc: 0.9309\n",
            "Epoch 178/300\n",
            "516/516 [==============================] - 3s 7ms/step - loss: 0.1607 - acc: 0.9482 - val_loss: 0.2447 - val_acc: 0.9206\n",
            "Epoch 179/300\n",
            "516/516 [==============================] - 3s 7ms/step - loss: 0.1638 - acc: 0.9469 - val_loss: 0.2596 - val_acc: 0.9195\n",
            "Epoch 180/300\n",
            "516/516 [==============================] - 3s 7ms/step - loss: 0.1753 - acc: 0.9394 - val_loss: 0.2011 - val_acc: 0.9406\n",
            "Epoch 181/300\n",
            "516/516 [==============================] - 3s 7ms/step - loss: 0.1575 - acc: 0.9488 - val_loss: 0.2183 - val_acc: 0.9336\n",
            "Epoch 182/300\n",
            "516/516 [==============================] - 3s 7ms/step - loss: 0.2425 - acc: 0.9190 - val_loss: 0.1954 - val_acc: 0.9435\n",
            "Epoch 183/300\n",
            "516/516 [==============================] - 4s 7ms/step - loss: 0.1514 - acc: 0.9526 - val_loss: 0.2102 - val_acc: 0.9340\n",
            "Epoch 184/300\n",
            "516/516 [==============================] - 4s 7ms/step - loss: 0.1947 - acc: 0.9359 - val_loss: 0.2068 - val_acc: 0.9364\n",
            "Epoch 185/300\n",
            "516/516 [==============================] - 3s 7ms/step - loss: 0.1493 - acc: 0.9470 - val_loss: 0.2131 - val_acc: 0.9331\n",
            "Epoch 186/300\n",
            "516/516 [==============================] - 4s 7ms/step - loss: 0.1680 - acc: 0.9437 - val_loss: 0.2290 - val_acc: 0.9321\n",
            "Epoch 187/300\n",
            "516/516 [==============================] - 3s 7ms/step - loss: 0.1838 - acc: 0.9374 - val_loss: 0.1946 - val_acc: 0.9406\n",
            "Epoch 188/300\n",
            "516/516 [==============================] - 3s 7ms/step - loss: 0.1586 - acc: 0.9465 - val_loss: 0.2023 - val_acc: 0.9389\n",
            "Epoch 189/300\n",
            "516/516 [==============================] - 4s 7ms/step - loss: 0.1432 - acc: 0.9525 - val_loss: 0.1991 - val_acc: 0.9395\n",
            "Epoch 190/300\n",
            "516/516 [==============================] - 3s 7ms/step - loss: 0.1664 - acc: 0.9433 - val_loss: 0.2258 - val_acc: 0.9294\n",
            "Epoch 191/300\n",
            "516/516 [==============================] - 3s 7ms/step - loss: 0.1747 - acc: 0.9398 - val_loss: 0.2286 - val_acc: 0.9280\n",
            "Epoch 192/300\n",
            "516/516 [==============================] - 3s 7ms/step - loss: 0.1751 - acc: 0.9422 - val_loss: 0.2041 - val_acc: 0.9356\n",
            "Epoch 193/300\n",
            "516/516 [==============================] - 3s 7ms/step - loss: 0.1510 - acc: 0.9500 - val_loss: 0.1840 - val_acc: 0.9470\n",
            "Epoch 194/300\n",
            "516/516 [==============================] - 4s 7ms/step - loss: 0.1453 - acc: 0.9531 - val_loss: 0.3086 - val_acc: 0.8989\n",
            "Epoch 195/300\n",
            "516/516 [==============================] - 3s 7ms/step - loss: 0.2231 - acc: 0.9269 - val_loss: 0.1982 - val_acc: 0.9375\n",
            "Epoch 196/300\n",
            "516/516 [==============================] - 3s 7ms/step - loss: 0.1421 - acc: 0.9537 - val_loss: 0.2183 - val_acc: 0.9329\n",
            "Epoch 197/300\n",
            "516/516 [==============================] - 3s 7ms/step - loss: 0.1538 - acc: 0.9487 - val_loss: 0.1964 - val_acc: 0.9395\n",
            "Epoch 198/300\n",
            "516/516 [==============================] - 3s 7ms/step - loss: 0.1518 - acc: 0.9498 - val_loss: 0.1985 - val_acc: 0.9354\n",
            "Epoch 199/300\n",
            "516/516 [==============================] - 3s 7ms/step - loss: 0.1513 - acc: 0.9494 - val_loss: 0.1908 - val_acc: 0.9437\n",
            "Epoch 200/300\n",
            "516/516 [==============================] - 3s 7ms/step - loss: 0.1611 - acc: 0.9480 - val_loss: 0.2315 - val_acc: 0.9294\n",
            "Epoch 201/300\n",
            "516/516 [==============================] - 4s 7ms/step - loss: 0.1649 - acc: 0.9465 - val_loss: 0.1918 - val_acc: 0.9420\n",
            "Epoch 202/300\n",
            "516/516 [==============================] - 3s 7ms/step - loss: 0.1463 - acc: 0.9518 - val_loss: 0.2244 - val_acc: 0.9311\n",
            "Epoch 203/300\n",
            "516/516 [==============================] - 3s 7ms/step - loss: 0.1544 - acc: 0.9481 - val_loss: 0.4569 - val_acc: 0.8783\n",
            "Epoch 204/300\n",
            "516/516 [==============================] - 3s 7ms/step - loss: 0.1808 - acc: 0.9412 - val_loss: 0.2036 - val_acc: 0.9381\n",
            "Epoch 205/300\n",
            "516/516 [==============================] - 3s 7ms/step - loss: 0.1712 - acc: 0.9440 - val_loss: 0.2038 - val_acc: 0.9364\n",
            "Epoch 206/300\n",
            "516/516 [==============================] - 3s 7ms/step - loss: 0.1623 - acc: 0.9451 - val_loss: 0.1999 - val_acc: 0.9404\n",
            "Epoch 207/300\n",
            "516/516 [==============================] - 4s 7ms/step - loss: 0.1465 - acc: 0.9516 - val_loss: 0.1983 - val_acc: 0.9377\n",
            "Epoch 208/300\n",
            "516/516 [==============================] - 4s 7ms/step - loss: 0.1437 - acc: 0.9521 - val_loss: 0.1897 - val_acc: 0.9395\n",
            "Epoch 209/300\n",
            "516/516 [==============================] - 4s 7ms/step - loss: 0.1534 - acc: 0.9507 - val_loss: 0.1843 - val_acc: 0.9449\n",
            "Epoch 210/300\n",
            "516/516 [==============================] - 4s 7ms/step - loss: 0.1377 - acc: 0.9537 - val_loss: 0.1962 - val_acc: 0.9402\n",
            "Epoch 211/300\n",
            "516/516 [==============================] - 4s 7ms/step - loss: 0.1545 - acc: 0.9489 - val_loss: 0.2051 - val_acc: 0.9389\n",
            "Epoch 212/300\n",
            "516/516 [==============================] - 4s 7ms/step - loss: 0.1502 - acc: 0.9502 - val_loss: 0.1798 - val_acc: 0.9449\n",
            "Epoch 213/300\n",
            "516/516 [==============================] - 3s 7ms/step - loss: 0.1410 - acc: 0.9528 - val_loss: 0.2862 - val_acc: 0.9111\n",
            "Epoch 214/300\n",
            "516/516 [==============================] - 3s 7ms/step - loss: 0.1772 - acc: 0.9401 - val_loss: 0.2171 - val_acc: 0.9352\n",
            "Epoch 215/300\n",
            "516/516 [==============================] - 3s 7ms/step - loss: 0.1941 - acc: 0.9361 - val_loss: 0.1856 - val_acc: 0.9447\n",
            "Epoch 216/300\n",
            "516/516 [==============================] - 4s 7ms/step - loss: 0.1360 - acc: 0.9555 - val_loss: 0.1873 - val_acc: 0.9435\n",
            "Epoch 217/300\n",
            "516/516 [==============================] - 4s 7ms/step - loss: 0.1425 - acc: 0.9518 - val_loss: 0.2000 - val_acc: 0.9360\n",
            "Epoch 218/300\n",
            "516/516 [==============================] - 4s 7ms/step - loss: 0.1475 - acc: 0.9525 - val_loss: 0.1881 - val_acc: 0.9439\n",
            "Epoch 219/300\n",
            "516/516 [==============================] - 4s 7ms/step - loss: 0.1555 - acc: 0.9473 - val_loss: 0.3464 - val_acc: 0.8976\n",
            "Epoch 220/300\n",
            "516/516 [==============================] - 4s 7ms/step - loss: 0.2194 - acc: 0.9278 - val_loss: 0.1764 - val_acc: 0.9472\n",
            "Epoch 221/300\n",
            "516/516 [==============================] - 4s 7ms/step - loss: 0.1314 - acc: 0.9559 - val_loss: 0.1875 - val_acc: 0.9449\n",
            "Epoch 222/300\n",
            "516/516 [==============================] - 3s 7ms/step - loss: 0.1388 - acc: 0.9547 - val_loss: 0.1885 - val_acc: 0.9445\n",
            "Epoch 223/300\n",
            "516/516 [==============================] - 4s 7ms/step - loss: 0.1625 - acc: 0.9460 - val_loss: 0.2107 - val_acc: 0.9371\n",
            "Epoch 224/300\n",
            "516/516 [==============================] - 4s 7ms/step - loss: 0.1542 - acc: 0.9482 - val_loss: 0.1858 - val_acc: 0.9426\n",
            "Epoch 225/300\n",
            "516/516 [==============================] - 4s 7ms/step - loss: 0.1448 - acc: 0.9530 - val_loss: 0.1981 - val_acc: 0.9404\n",
            "Epoch 226/300\n",
            "516/516 [==============================] - 3s 7ms/step - loss: 0.1444 - acc: 0.9533 - val_loss: 0.2178 - val_acc: 0.9366\n",
            "Epoch 227/300\n",
            "516/516 [==============================] - 3s 7ms/step - loss: 0.1633 - acc: 0.9449 - val_loss: 0.1989 - val_acc: 0.9426\n",
            "Epoch 228/300\n",
            "516/516 [==============================] - 3s 6ms/step - loss: 0.1504 - acc: 0.9507 - val_loss: 0.2130 - val_acc: 0.9362\n",
            "Epoch 229/300\n",
            "516/516 [==============================] - 3s 7ms/step - loss: 0.1448 - acc: 0.9522 - val_loss: 0.1909 - val_acc: 0.9449\n",
            "Epoch 230/300\n",
            "516/516 [==============================] - 3s 7ms/step - loss: 0.1441 - acc: 0.9525 - val_loss: 0.4117 - val_acc: 0.8702\n",
            "Epoch 231/300\n",
            "516/516 [==============================] - 4s 7ms/step - loss: 0.2461 - acc: 0.9232 - val_loss: 0.2141 - val_acc: 0.9334\n",
            "Epoch 232/300\n",
            "516/516 [==============================] - 4s 7ms/step - loss: 0.1388 - acc: 0.9553 - val_loss: 0.1847 - val_acc: 0.9484\n",
            "Epoch 233/300\n",
            "516/516 [==============================] - 3s 7ms/step - loss: 0.1330 - acc: 0.9565 - val_loss: 0.1753 - val_acc: 0.9507\n",
            "Epoch 234/300\n",
            "516/516 [==============================] - 4s 7ms/step - loss: 0.1491 - acc: 0.9497 - val_loss: 0.1804 - val_acc: 0.9472\n",
            "Epoch 235/300\n",
            "516/516 [==============================] - 3s 7ms/step - loss: 0.1406 - acc: 0.9538 - val_loss: 0.1951 - val_acc: 0.9464\n",
            "Epoch 236/300\n",
            "516/516 [==============================] - 3s 7ms/step - loss: 0.1395 - acc: 0.9553 - val_loss: 0.1918 - val_acc: 0.9459\n",
            "Epoch 237/300\n",
            "516/516 [==============================] - 4s 7ms/step - loss: 0.1548 - acc: 0.9463 - val_loss: 0.2060 - val_acc: 0.9366\n",
            "Epoch 238/300\n",
            "516/516 [==============================] - 4s 7ms/step - loss: 0.1924 - acc: 0.9359 - val_loss: 0.1864 - val_acc: 0.9453\n",
            "Epoch 239/300\n",
            "516/516 [==============================] - 4s 7ms/step - loss: 0.1251 - acc: 0.9600 - val_loss: 0.1746 - val_acc: 0.9482\n",
            "Epoch 240/300\n",
            "516/516 [==============================] - 4s 7ms/step - loss: 0.1324 - acc: 0.9558 - val_loss: 0.1810 - val_acc: 0.9447\n",
            "Epoch 241/300\n",
            "516/516 [==============================] - 4s 7ms/step - loss: 0.1535 - acc: 0.9488 - val_loss: 0.1801 - val_acc: 0.9494\n",
            "Epoch 242/300\n",
            "516/516 [==============================] - 4s 7ms/step - loss: 0.1429 - acc: 0.9543 - val_loss: 0.1972 - val_acc: 0.9470\n",
            "Epoch 243/300\n",
            "516/516 [==============================] - 4s 7ms/step - loss: 0.1608 - acc: 0.9463 - val_loss: 0.3726 - val_acc: 0.8836\n",
            "Epoch 244/300\n",
            "516/516 [==============================] - 4s 7ms/step - loss: 0.2100 - acc: 0.9344 - val_loss: 0.1816 - val_acc: 0.9486\n",
            "Epoch 245/300\n",
            "516/516 [==============================] - 4s 7ms/step - loss: 0.1326 - acc: 0.9573 - val_loss: 0.1744 - val_acc: 0.9478\n",
            "Epoch 246/300\n",
            "516/516 [==============================] - 4s 7ms/step - loss: 0.1396 - acc: 0.9553 - val_loss: 0.1908 - val_acc: 0.9428\n",
            "Epoch 247/300\n",
            "516/516 [==============================] - 3s 7ms/step - loss: 0.1480 - acc: 0.9503 - val_loss: 0.2400 - val_acc: 0.9263\n",
            "Epoch 248/300\n",
            "516/516 [==============================] - 3s 7ms/step - loss: 0.1701 - acc: 0.9431 - val_loss: 0.1887 - val_acc: 0.9441\n",
            "Epoch 249/300\n",
            "516/516 [==============================] - 4s 7ms/step - loss: 0.1321 - acc: 0.9566 - val_loss: 0.1950 - val_acc: 0.9406\n",
            "Epoch 250/300\n",
            "516/516 [==============================] - 3s 7ms/step - loss: 0.1279 - acc: 0.9582 - val_loss: 0.1780 - val_acc: 0.9486\n",
            "Epoch 251/300\n",
            "516/516 [==============================] - 3s 7ms/step - loss: 0.1699 - acc: 0.9454 - val_loss: 0.2302 - val_acc: 0.9259\n",
            "Epoch 252/300\n",
            "516/516 [==============================] - 3s 7ms/step - loss: 0.1423 - acc: 0.9524 - val_loss: 0.1810 - val_acc: 0.9474\n",
            "Epoch 253/300\n",
            "516/516 [==============================] - 3s 7ms/step - loss: 0.1233 - acc: 0.9594 - val_loss: 0.1827 - val_acc: 0.9478\n",
            "Epoch 254/300\n",
            "516/516 [==============================] - 3s 7ms/step - loss: 0.1462 - acc: 0.9514 - val_loss: 0.1915 - val_acc: 0.9439\n",
            "Epoch 255/300\n",
            "516/516 [==============================] - 3s 7ms/step - loss: 0.1539 - acc: 0.9486 - val_loss: 0.1842 - val_acc: 0.9459\n",
            "Epoch 256/300\n",
            "516/516 [==============================] - 4s 7ms/step - loss: 0.1334 - acc: 0.9556 - val_loss: 0.1831 - val_acc: 0.9464\n",
            "Epoch 257/300\n",
            "516/516 [==============================] - 4s 7ms/step - loss: 0.1424 - acc: 0.9521 - val_loss: 0.2240 - val_acc: 0.9296\n",
            "Epoch 258/300\n",
            "516/516 [==============================] - 4s 7ms/step - loss: 0.1554 - acc: 0.9471 - val_loss: 0.2036 - val_acc: 0.9391\n",
            "Epoch 259/300\n",
            "516/516 [==============================] - 4s 7ms/step - loss: 0.1249 - acc: 0.9583 - val_loss: 0.1811 - val_acc: 0.9470\n",
            "Epoch 260/300\n",
            "516/516 [==============================] - 3s 7ms/step - loss: 0.1472 - acc: 0.9527 - val_loss: 0.1870 - val_acc: 0.9468\n",
            "Epoch 261/300\n",
            "516/516 [==============================] - 4s 7ms/step - loss: 0.1586 - acc: 0.9478 - val_loss: 0.2132 - val_acc: 0.9352\n",
            "Epoch 262/300\n",
            "516/516 [==============================] - 3s 7ms/step - loss: 0.1552 - acc: 0.9502 - val_loss: 0.2042 - val_acc: 0.9362\n",
            "Epoch 263/300\n",
            "516/516 [==============================] - 4s 7ms/step - loss: 0.1344 - acc: 0.9544 - val_loss: 0.1763 - val_acc: 0.9519\n",
            "Epoch 264/300\n",
            "516/516 [==============================] - 3s 7ms/step - loss: 0.1390 - acc: 0.9539 - val_loss: 0.3448 - val_acc: 0.8972\n",
            "Epoch 265/300\n",
            "516/516 [==============================] - 3s 7ms/step - loss: 0.2127 - acc: 0.9295 - val_loss: 0.1846 - val_acc: 0.9439\n",
            "Epoch 266/300\n",
            "516/516 [==============================] - 4s 7ms/step - loss: 0.1278 - acc: 0.9573 - val_loss: 0.1792 - val_acc: 0.9464\n",
            "Epoch 267/300\n",
            "516/516 [==============================] - 3s 7ms/step - loss: 0.1294 - acc: 0.9574 - val_loss: 0.1819 - val_acc: 0.9480\n",
            "Epoch 268/300\n",
            "516/516 [==============================] - 4s 7ms/step - loss: 0.1425 - acc: 0.9527 - val_loss: 0.2297 - val_acc: 0.9251\n",
            "Epoch 269/300\n",
            "516/516 [==============================] - 4s 7ms/step - loss: 0.1617 - acc: 0.9445 - val_loss: 0.1768 - val_acc: 0.9492\n",
            "Epoch 270/300\n",
            "516/516 [==============================] - 3s 7ms/step - loss: 0.1245 - acc: 0.9602 - val_loss: 0.2035 - val_acc: 0.9412\n",
            "Epoch 271/300\n",
            "516/516 [==============================] - 4s 7ms/step - loss: 0.1434 - acc: 0.9511 - val_loss: 0.1989 - val_acc: 0.9410\n",
            "Epoch 272/300\n",
            "516/516 [==============================] - 4s 7ms/step - loss: 0.1653 - acc: 0.9462 - val_loss: 0.1827 - val_acc: 0.9474\n",
            "Epoch 273/300\n",
            "516/516 [==============================] - 4s 7ms/step - loss: 0.1653 - acc: 0.9486 - val_loss: 0.2326 - val_acc: 0.9251\n",
            "Epoch 274/300\n",
            "516/516 [==============================] - 4s 7ms/step - loss: 0.1411 - acc: 0.9528 - val_loss: 0.1698 - val_acc: 0.9525\n",
            "Epoch 275/300\n",
            "516/516 [==============================] - 4s 8ms/step - loss: 0.1291 - acc: 0.9581 - val_loss: 0.2254 - val_acc: 0.9298\n",
            "Epoch 276/300\n",
            "516/516 [==============================] - 5s 9ms/step - loss: 0.1273 - acc: 0.9591 - val_loss: 0.1893 - val_acc: 0.9455\n",
            "Epoch 277/300\n",
            "516/516 [==============================] - 4s 7ms/step - loss: 0.1673 - acc: 0.9462 - val_loss: 0.2350 - val_acc: 0.9286\n",
            "Epoch 278/300\n",
            "516/516 [==============================] - 4s 7ms/step - loss: 0.1401 - acc: 0.9549 - val_loss: 0.1758 - val_acc: 0.9517\n",
            "Epoch 279/300\n",
            "516/516 [==============================] - 3s 7ms/step - loss: 0.1312 - acc: 0.9570 - val_loss: 0.1769 - val_acc: 0.9499\n",
            "Epoch 280/300\n",
            "516/516 [==============================] - 3s 7ms/step - loss: 0.1318 - acc: 0.9557 - val_loss: 0.3296 - val_acc: 0.8985\n",
            "Epoch 281/300\n",
            "516/516 [==============================] - 4s 7ms/step - loss: 0.1470 - acc: 0.9516 - val_loss: 0.1760 - val_acc: 0.9519\n",
            "Epoch 282/300\n",
            "516/516 [==============================] - 4s 7ms/step - loss: 0.1297 - acc: 0.9575 - val_loss: 0.1977 - val_acc: 0.9435\n",
            "Epoch 283/300\n",
            "516/516 [==============================] - 3s 7ms/step - loss: 0.1395 - acc: 0.9537 - val_loss: 0.1716 - val_acc: 0.9499\n",
            "Epoch 284/300\n",
            "516/516 [==============================] - 3s 7ms/step - loss: 0.1322 - acc: 0.9564 - val_loss: 0.3879 - val_acc: 0.8846\n",
            "Epoch 285/300\n",
            "516/516 [==============================] - 3s 7ms/step - loss: 0.2100 - acc: 0.9287 - val_loss: 0.1758 - val_acc: 0.9497\n",
            "Epoch 286/300\n",
            "516/516 [==============================] - 3s 7ms/step - loss: 0.1284 - acc: 0.9574 - val_loss: 0.1729 - val_acc: 0.9492\n",
            "Epoch 287/300\n",
            "516/516 [==============================] - 3s 7ms/step - loss: 0.1260 - acc: 0.9577 - val_loss: 0.2323 - val_acc: 0.9296\n",
            "Epoch 288/300\n",
            "516/516 [==============================] - 3s 7ms/step - loss: 0.1509 - acc: 0.9475 - val_loss: 0.1984 - val_acc: 0.9443\n",
            "Epoch 289/300\n",
            "516/516 [==============================] - 3s 7ms/step - loss: 0.1343 - acc: 0.9546 - val_loss: 0.1769 - val_acc: 0.9474\n",
            "Epoch 290/300\n",
            "516/516 [==============================] - 3s 6ms/step - loss: 0.1333 - acc: 0.9556 - val_loss: 0.1752 - val_acc: 0.9503\n",
            "Epoch 291/300\n",
            "516/516 [==============================] - 3s 7ms/step - loss: 0.1964 - acc: 0.9383 - val_loss: 0.1809 - val_acc: 0.9503\n",
            "Epoch 292/300\n",
            "516/516 [==============================] - 3s 7ms/step - loss: 0.1340 - acc: 0.9560 - val_loss: 0.1687 - val_acc: 0.9525\n",
            "Epoch 293/300\n",
            "516/516 [==============================] - 3s 7ms/step - loss: 0.1281 - acc: 0.9561 - val_loss: 0.1769 - val_acc: 0.9492\n",
            "Epoch 294/300\n",
            "516/516 [==============================] - 4s 7ms/step - loss: 0.1229 - acc: 0.9592 - val_loss: 0.1708 - val_acc: 0.9499\n",
            "Epoch 295/300\n",
            "516/516 [==============================] - 4s 7ms/step - loss: 0.1480 - acc: 0.9519 - val_loss: 0.1973 - val_acc: 0.9447\n",
            "Epoch 296/300\n",
            "516/516 [==============================] - 4s 7ms/step - loss: 0.1436 - acc: 0.9521 - val_loss: 0.1648 - val_acc: 0.9515\n",
            "Epoch 297/300\n",
            "516/516 [==============================] - 4s 7ms/step - loss: 0.1253 - acc: 0.9590 - val_loss: 0.1717 - val_acc: 0.9474\n",
            "Epoch 298/300\n",
            "516/516 [==============================] - 4s 7ms/step - loss: 0.1286 - acc: 0.9572 - val_loss: 0.3508 - val_acc: 0.8933\n",
            "Epoch 299/300\n",
            "516/516 [==============================] - 4s 7ms/step - loss: 0.1936 - acc: 0.9351 - val_loss: 0.2475 - val_acc: 0.9241\n",
            "Epoch 300/300\n",
            "516/516 [==============================] - 4s 7ms/step - loss: 0.1714 - acc: 0.9461 - val_loss: 0.1758 - val_acc: 0.9480\n"
          ],
          "name": "stdout"
        }
      ]
    },
    {
      "cell_type": "code",
      "metadata": {
        "id": "MonAlseQeoCK"
      },
      "source": [
        "score = model.evaluate(X_test_tokens, test_categorical_labels, verbose=1)\n",
        "\n",
        "print(\"Test Score:\", score[0])\n",
        "print(\"Test Accuracy:\", score[1])"
      ],
      "execution_count": null,
      "outputs": []
    },
    {
      "cell_type": "code",
      "metadata": {
        "id": "KzMbCorVXRhn"
      },
      "source": [
        "predictions = model.predict(X_test_tokens)\n",
        "from sklearn.metrics import confusion_matrix\n",
        "predict_labels = np.zeros((6442,))\n",
        "for i in range(predictions.shape[0]):\n",
        "    idx = np.argmax(predictions[i,:])\n",
        "    predict_labels[i] = idx\n",
        "confusion_matrix(y_test, predict_labels, normalize='true')"
      ],
      "execution_count": null,
      "outputs": []
    },
    {
      "cell_type": "code",
      "metadata": {
        "id": "Z0ikwDA5Euvd"
      },
      "source": [
        "from sklearn.metrics import classification_report\n",
        "from sklearn import metrics\n",
        "print(classification_report(y_test, predict_labels))\n",
        "print(confusion_matrix(y_test, predict_labels, normalize='true'))\n",
        "print(\"Accuracy:\",metrics.accuracy_score(y_test, predict_labels))"
      ],
      "execution_count": null,
      "outputs": []
    },
    {
      "cell_type": "code",
      "metadata": {
        "colab": {
          "base_uri": "https://localhost:8080/",
          "height": 573
        },
        "id": "vG9QP_8_rRyZ",
        "outputId": "28278325-78ef-4b41-a4b6-1893d2b46e37"
      },
      "source": [
        "import matplotlib.pyplot as plt\n",
        "\n",
        "plt.plot(history.history['acc'])\n",
        "plt.plot(history.history['val_acc'])\n",
        "\n",
        "plt.title('LSTM with 50-dim Word2Vec: model accuracy')\n",
        "plt.ylabel('accuracy')\n",
        "plt.xlabel('epoch')\n",
        "plt.ylim((0.5,1.0))\n",
        "plt.legend(['train','test'], loc='upper left')\n",
        "plt.show()\n",
        "\n",
        "plt.plot(history.history['loss'])\n",
        "plt.plot(history.history['val_loss'])\n",
        "\n",
        "plt.title('LSTM with 50-dim Word2Vec: model loss')\n",
        "plt.ylabel('loss')\n",
        "plt.xlabel('epoch')\n",
        "plt.ylim((0.1,1.0))\n",
        "plt.legend(['train','test'], loc='upper left')\n",
        "plt.show()"
      ],
      "execution_count": null,
      "outputs": [
        {
          "output_type": "display_data",
          "data": {
            "image/png": "[encoded data removed]",
            "text/plain": [
              "<Figure size 432x288 with 1 Axes>"
            ]
          },
          "metadata": {
            "tags": [],
            "needs_background": "light"
          }
        },
        {
          "output_type": "display_data",
          "data": {
            "image/png": "[encoded data removed]",
            "text/plain": [
              "<Figure size 432x288 with 1 Axes>"
            ]
          },
          "metadata": {
            "tags": [],
            "needs_background": "light"
          }
        }
      ]
    }
  ]
}