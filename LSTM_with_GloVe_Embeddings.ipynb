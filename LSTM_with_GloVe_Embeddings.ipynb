{
  "nbformat": 4,
  "nbformat_minor": 0,
  "metadata": {
    "colab": {
      "name": "LSTM with GloVe Embeddings.ipynb",
      "provenance": [],
      "toc_visible": true
    },
    "kernelspec": {
      "name": "python3",
      "display_name": "Python 3"
    },
    "language_info": {
      "name": "python"
    }
  },
  "cells": [
    {
      "cell_type": "markdown",
      "metadata": {
        "id": "fOJJITkCL_Fj"
      },
      "source": [
        "# LSTM with GloVe Embeddings"
      ]
    },
    {
      "cell_type": "markdown",
      "metadata": {
        "id": "wI4_X7YMMEem"
      },
      "source": [
        "Source: https://stackabuse.com/python-for-nlp-multi-label-text-classification-with-keras/#disqus_thread"
      ]
    },
    {
      "cell_type": "markdown",
      "metadata": {
        "id": "fx4ZkxwyMKkK"
      },
      "source": [
        "# Imports and Pre-Processing"
      ]
    },
    {
      "cell_type": "code",
      "metadata": {
        "id": "yV8Zm_n0MZ3I"
      },
      "source": [
        "from numpy import array\n",
        "from keras.preprocessing.text import one_hot\n",
        "from keras.preprocessing.sequence import pad_sequences\n",
        "from keras.models import Sequential\n",
        "from keras.layers.core import Activation, Dropout, Dense\n",
        "from keras.layers import Flatten, LSTM\n",
        "from keras.layers import GlobalMaxPooling1D\n",
        "from keras.models import Model\n",
        "from keras.layers.embeddings import Embedding\n",
        "from sklearn.model_selection import train_test_split\n",
        "from keras.preprocessing.text import Tokenizer\n",
        "from keras.layers import Input\n",
        "from keras.layers.merge import Concatenate\n",
        "\n",
        "import pandas as pd\n",
        "import numpy as np\n",
        "import re\n",
        "\n",
        "from numpy import array\n",
        "from numpy import asarray\n",
        "from numpy import zeros\n",
        "\n",
        "import matplotlib.pyplot as plt"
      ],
      "execution_count": null,
      "outputs": []
    },
    {
      "cell_type": "markdown",
      "metadata": {
        "id": "bgVvERNAMjrM"
      },
      "source": [
        "Load Dataset"
      ]
    },
    {
      "cell_type": "code",
      "metadata": {
        "id": "Y_6yn-9RMawI"
      },
      "source": [
        "comments = pd.read_csv(\"train1_onehot_full.csv\")\n",
        "print(comments.shape)\n",
        "comments.head(10)"
      ],
      "execution_count": null,
      "outputs": []
    },
    {
      "cell_type": "markdown",
      "metadata": {
        "id": "EbtZSnXXGKSs"
      },
      "source": [
        "Remove all rows that contain a null value or empty string"
      ]
    },
    {
      "cell_type": "code",
      "metadata": {
        "id": "MRdj-CT1F-_F"
      },
      "source": [
        "filter = comments[\"comment_text\"] != \"\"\n",
        "comments = comments[filter]\n",
        "comments = comments.dropna()"
      ],
      "execution_count": null,
      "outputs": []
    },
    {
      "cell_type": "markdown",
      "metadata": {
        "id": "aYyiJZO4GdRH"
      },
      "source": [
        "Print a random comment, and print its associated labels"
      ]
    },
    {
      "cell_type": "code",
      "metadata": {
        "colab": {
          "base_uri": "https://localhost:8080/"
        },
        "id": "-kfPU53mGWoH",
        "outputId": "4a6f0863-5984-43d1-edc2-96f9aaf60838"
      },
      "source": [
        "print(comments[\"comment_text\"][160])\n",
        "print(\"Neutral:\" + str(comments[\"neutral\"][160]))\n",
        "print(\"Toxic:\" + str(comments[\"toxic\"][160]))\n",
        "print(\"Derogatory:\" + str(comments[\"derogatory\"][160]))"
      ],
      "execution_count": null,
      "outputs": [
        {
          "output_type": "stream",
          "text": [
            "really terrible\n",
            "Neutral:0\n",
            "Toxic:1\n",
            "Derogatory:0\n"
          ],
          "name": "stdout"
        }
      ]
    },
    {
      "cell_type": "markdown",
      "metadata": {
        "id": "d9k-n8-NHmaP"
      },
      "source": [
        "Plot the comment count for each label"
      ]
    },
    {
      "cell_type": "code",
      "metadata": {
        "id": "8lVUHYgbGaKh"
      },
      "source": [
        "comments_labels = comments[[\"neutral\", \"toxic\", \"derogatory\"]]\n",
        "comments_labels.head()\n",
        "print(comments_labels.shape)"
      ],
      "execution_count": null,
      "outputs": []
    },
    {
      "cell_type": "code",
      "metadata": {
        "id": "umhu5F9wHwzf"
      },
      "source": [
        "fig_size = plt.rcParams[\"figure.figsize\"]\n",
        "fig_size[0] = 8\n",
        "fig_size[1] = 6\n",
        "plt.rcParams[\"figure.figsize\"] = fig_size\n",
        "plt.title('Dataset balances')\n",
        "\n",
        "print(comments_labels.sum(axis=0) / 38640)\n",
        "labels_to_plot = [(comments_labels.sum(axis=0))[0], (comments_labels.sum(axis=0))[1], (comments_labels.sum(axis=0))[2]]\n",
        "plt.bar(['neutral/positive', 'neg. attitude', 'derogatory'], labels_to_plot, width=0.35, align='center')\n",
        "plt.ylim(0, 0.7)"
      ],
      "execution_count": null,
      "outputs": []
    },
    {
      "cell_type": "code",
      "metadata": {
        "id": "kw55NN6gMsnw"
      },
      "source": [
        "def remove_items(test_list, item):\n",
        "    # remove the item for all its occurrences\n",
        "    for i in test_list:\n",
        "        if(i == item):\n",
        "            test_list.remove(i)\n",
        "  \n",
        "    return test_list"
      ],
      "execution_count": null,
      "outputs": []
    },
    {
      "cell_type": "code",
      "metadata": {
        "id": "qTf4963T8paq"
      },
      "source": [
        "def preprocess_text(sen):\n",
        "    sentence = sen.lower()\n",
        "    # Remove punctuations and numbers\n",
        "    sentence = re.sub('[^a-zA-Z]', ' ', sentence)\n",
        "\n",
        "    # Single character removal\n",
        "    sentence = re.sub(r\"\\s+[a-zA-Z]\\s+\", ' ', sentence)\n",
        "\n",
        "    # Removing multiple spaces\n",
        "    sentence = re.sub(r'\\s+', ' ', sentence)\n",
        "\n",
        "    # Remove extra spaces\n",
        "    sentence = re.sub(' +', ' ', sentence)\n",
        "    sentence_list = sentence.split()\n",
        "\n",
        "    # Removing stop words\n",
        "    stop_words = ['u', 'ur', 'im', 'can', 'cant', 'i', 'me', 'my', 'myself', 'we', 'go', 'our', 'ours', 'ourselves', 'you', \"youre\", \"youve\", \"youll\", \"youd\", 'your', 'yours', 'yourself', 'yourselves', 'he', 'him', 'his', 'himself', 'it', 'its', 'itself', 'they', 'them', 'their', 'theirs', 'themselves', 'what', 'which', 'who', 'whom', 'this', 'that', \"thatll\", 'these', 'those', 'am', 'is', 'are', 'was', 'were', 'be', 'been', 'being', 'have', 'has', 'had', 'having', 'do', 'does', 'did', 'doing', 'a', 'an', 'the', 'and', 'but', 'if', 'or', 'because', 'as', 'until', 'while', 'of', 'at', 'by', 'for', 'with', 'about', 'against', 'between', 'into', 'through', 'during', 'before', 'after', 'above', 'below', 'to', 'from', 'up', 'down', 'in', 'out', 'on', 'off', 'over', 'then', 'once', 'here', 'there', 'when', 'where', 'why', 'how', 'all', 'any', 'both', 'each', 'few', 'more', 'most', 'other', 'some', 'such', 'no', 'nor', 'not', 'only', 'own', 'same', 'so', 'than', 'too', 'very', 's', 't', 'can', 'will', 'just', 'don', \"don't\", 'should', \"shouldve\", 'now', 'd', 'll', 'm', 'o', 're', 'r', 'ur', 've', 'y', 'ain', 'aren', \"arent\", 'couldn', \"couldnt\", 'didn', \"didnt\", 'doesn', \"doesnt\", 'hadn', \"hadnt\", 'hasn', \"hasnt\", 'haven', \"havent\", 'isn', \"isnt\", 'ma', 'mightn', \"mightnt\", 'mustn', \"mustnt\", 'needn', \"neednt\", 'shan', \"shant\", 'shouldn', \"shouldnt\", 'wasn', \"wasnt\", 'weren', \"werent\", 'won', \"wont\", 'wouldn', \"wouldnt\"]\n",
        "    for stop_word in stop_words:\n",
        "      if stop_word in sentence_list:\n",
        "        sentence_list = remove_items(sentence_list, stop_word)\n",
        "\n",
        "    # Join back to list\n",
        "    sentence = \" \".join(sentence_list)\n",
        "\n",
        "    # Remove extra spaces\n",
        "    sentence = re.sub(' +', ' ', sentence)\n",
        "    return sentence.lstrip()"
      ],
      "execution_count": null,
      "outputs": []
    },
    {
      "cell_type": "markdown",
      "metadata": {
        "id": "ZkfeyditP2Lu"
      },
      "source": [
        "Get a list of all sentences and labels from the dataset"
      ]
    },
    {
      "cell_type": "code",
      "metadata": {
        "id": "Tlx1JTmd8usJ"
      },
      "source": [
        "X = []\n",
        "sentences = list(comments[\"comment_text\"])\n",
        "for sen in sentences:\n",
        "    X.append(preprocess_text(sen))\n",
        "\n",
        "y = comments_labels.values"
      ],
      "execution_count": null,
      "outputs": []
    },
    {
      "cell_type": "markdown",
      "metadata": {
        "id": "PObnL5DhQEXF"
      },
      "source": [
        "Split data into training and test sets"
      ]
    },
    {
      "cell_type": "code",
      "metadata": {
        "id": "rjqQ5aO_wjy5"
      },
      "source": [
        "X_train, X_test, y_train, y_test = train_test_split(X, y, test_size=0.20, random_state=42)"
      ],
      "execution_count": null,
      "outputs": []
    },
    {
      "cell_type": "markdown",
      "metadata": {
        "id": "tDVa_qkBttZ1"
      },
      "source": [
        "# Tokenizing and GloVe Embeddings"
      ]
    },
    {
      "cell_type": "code",
      "metadata": {
        "id": "NErXiyWSYvCQ"
      },
      "source": [
        "tokenizer = Tokenizer(num_words=1000)\n",
        "tokenizer.fit_on_texts(X_train)\n",
        "\n",
        "X_train = tokenizer.texts_to_sequences(X_train)\n",
        "X_test = tokenizer.texts_to_sequences(X_test)\n",
        "\n",
        "vocab_size = len(tokenizer.word_index) + 1\n",
        "print(vocab_size)\n",
        "maxlen = 10\n",
        "\n",
        "X_train = pad_sequences(X_train, padding='post', maxlen=maxlen)\n",
        "X_test = pad_sequences(X_test, padding='post', maxlen=maxlen)"
      ],
      "execution_count": null,
      "outputs": []
    },
    {
      "cell_type": "markdown",
      "metadata": {
        "id": "Y1ZB562LQMHg"
      },
      "source": [
        "Get GloVe embeddings. The embedding matrix will be fed into the neural network"
      ]
    },
    {
      "cell_type": "code",
      "metadata": {
        "id": "KQVQ3Ld3ZFeu"
      },
      "source": [
        "embeddings_dictionary = dict()\n",
        "glove_file = open('glove.6B.50d.txt', encoding=\"utf8\")"
      ],
      "execution_count": null,
      "outputs": []
    },
    {
      "cell_type": "code",
      "metadata": {
        "id": "ohoAWqscZGyM"
      },
      "source": [
        "for line in glove_file:\n",
        "    records = line.split()\n",
        "    word = records[0]\n",
        "    vector_dimensions = asarray(records[1:], dtype='float32')\n",
        "    embeddings_dictionary[word] = vector_dimensions\n",
        "glove_file.close()"
      ],
      "execution_count": null,
      "outputs": []
    },
    {
      "cell_type": "code",
      "metadata": {
        "id": "a-XUh9u-fRnp"
      },
      "source": [
        "embedding_matrix = zeros((vocab_size, 50))\n",
        "for word, index in tokenizer.word_index.items():\n",
        "    embedding_vector = embeddings_dictionary.get(word)\n",
        "    if embedding_vector is not None:\n",
        "        embedding_matrix[index] = embedding_vector"
      ],
      "execution_count": null,
      "outputs": []
    },
    {
      "cell_type": "markdown",
      "metadata": {
        "id": "H8MZA0ITmeXr"
      },
      "source": [
        "Specify the model architecture"
      ]
    },
    {
      "cell_type": "code",
      "metadata": {
        "id": "xLsuanlmlkcI"
      },
      "source": [
        "print(vocab_size)\n",
        "deep_inputs = Input(shape=(maxlen,))\n",
        "embedding_layer = Embedding(vocab_size, 50, weights=[embedding_matrix], trainable=False)(deep_inputs)\n",
        "LSTM_Layer_1 = LSTM(50)(embedding_layer)\n",
        "dense_layer_1 = Dense(3, activation='sigmoid')(LSTM_Layer_1)\n",
        "model = Model(inputs=deep_inputs, outputs=dense_layer_1)\n",
        "\n",
        "model.compile(loss='categorical_crossentropy', optimizer='adam', metrics=['acc'])"
      ],
      "execution_count": null,
      "outputs": []
    },
    {
      "cell_type": "code",
      "metadata": {
        "id": "9AHq9QL_l4Jz"
      },
      "source": [
        "print(model.summary())"
      ],
      "execution_count": null,
      "outputs": []
    },
    {
      "cell_type": "code",
      "metadata": {
        "id": "yK-13sDomxDN"
      },
      "source": [
        "from keras.utils import plot_model\n",
        "plot_model(model, to_file='model_plot4a.png', show_shapes=True, show_layer_names=True)"
      ],
      "execution_count": null,
      "outputs": []
    },
    {
      "cell_type": "markdown",
      "metadata": {
        "id": "qIWl5snYQYAt"
      },
      "source": [
        "# Training and Evaluation"
      ]
    },
    {
      "cell_type": "code",
      "metadata": {
        "colab": {
          "base_uri": "https://localhost:8080/"
        },
        "id": "wZYMhZ7rm9zT",
        "outputId": "215b8a7c-7d66-46e4-82b8-d7e2a78d988d"
      },
      "source": [
        "history = model.fit(X_train, y_train, batch_size=30, epochs=300, verbose=1, validation_split=0.20)"
      ],
      "execution_count": null,
      "outputs": [
        {
          "output_type": "stream",
          "text": [
            "Epoch 1/300\n",
            "825/825 [==============================] - 8s 8ms/step - loss: 0.5896 - acc: 0.7756 - val_loss: 0.3197 - val_acc: 0.8931\n",
            "Epoch 2/300\n",
            "825/825 [==============================] - 6s 7ms/step - loss: 0.3010 - acc: 0.9046 - val_loss: 0.2849 - val_acc: 0.9065\n",
            "Epoch 3/300\n",
            "825/825 [==============================] - 6s 7ms/step - loss: 0.2558 - acc: 0.9180 - val_loss: 0.2696 - val_acc: 0.9123\n",
            "Epoch 4/300\n",
            "825/825 [==============================] - 6s 7ms/step - loss: 0.2350 - acc: 0.9253 - val_loss: 0.2475 - val_acc: 0.9199\n",
            "Epoch 5/300\n",
            "825/825 [==============================] - 6s 7ms/step - loss: 0.2219 - acc: 0.9284 - val_loss: 0.2407 - val_acc: 0.9224\n",
            "Epoch 6/300\n",
            "825/825 [==============================] - 5s 7ms/step - loss: 0.2262 - acc: 0.9252 - val_loss: 0.2332 - val_acc: 0.9275\n",
            "Epoch 7/300\n",
            "825/825 [==============================] - 5s 7ms/step - loss: 0.2071 - acc: 0.9327 - val_loss: 0.2356 - val_acc: 0.9246\n",
            "Epoch 8/300\n",
            "825/825 [==============================] - 5s 7ms/step - loss: 0.1969 - acc: 0.9364 - val_loss: 0.2137 - val_acc: 0.9293\n",
            "Epoch 9/300\n",
            "825/825 [==============================] - 5s 6ms/step - loss: 0.1919 - acc: 0.9386 - val_loss: 0.2165 - val_acc: 0.9277\n",
            "Epoch 10/300\n",
            "825/825 [==============================] - 5s 7ms/step - loss: 0.1837 - acc: 0.9396 - val_loss: 0.2090 - val_acc: 0.9316\n",
            "Epoch 11/300\n",
            "825/825 [==============================] - 5s 6ms/step - loss: 0.1842 - acc: 0.9417 - val_loss: 0.2044 - val_acc: 0.9343\n",
            "Epoch 12/300\n",
            "825/825 [==============================] - 6s 7ms/step - loss: 0.1802 - acc: 0.9410 - val_loss: 0.2028 - val_acc: 0.9343\n",
            "Epoch 13/300\n",
            "825/825 [==============================] - 7s 8ms/step - loss: 0.1777 - acc: 0.9418 - val_loss: 0.2240 - val_acc: 0.9250\n",
            "Epoch 14/300\n",
            "825/825 [==============================] - 6s 7ms/step - loss: 0.1767 - acc: 0.9414 - val_loss: 0.1949 - val_acc: 0.9363\n",
            "Epoch 15/300\n",
            "825/825 [==============================] - 5s 6ms/step - loss: 0.1752 - acc: 0.9415 - val_loss: 0.1901 - val_acc: 0.9405\n",
            "Epoch 16/300\n",
            "825/825 [==============================] - 5s 6ms/step - loss: 0.1702 - acc: 0.9430 - val_loss: 0.1872 - val_acc: 0.9402\n",
            "Epoch 17/300\n",
            "825/825 [==============================] - 5s 6ms/step - loss: 0.1621 - acc: 0.9464 - val_loss: 0.1859 - val_acc: 0.9400\n",
            "Epoch 18/300\n",
            "825/825 [==============================] - 5s 6ms/step - loss: 0.1610 - acc: 0.9461 - val_loss: 0.1812 - val_acc: 0.9411\n",
            "Epoch 19/300\n",
            "825/825 [==============================] - 5s 6ms/step - loss: 0.1602 - acc: 0.9450 - val_loss: 0.1809 - val_acc: 0.9426\n",
            "Epoch 20/300\n",
            "825/825 [==============================] - 5s 6ms/step - loss: 0.1456 - acc: 0.9514 - val_loss: 0.1817 - val_acc: 0.9402\n",
            "Epoch 21/300\n",
            "825/825 [==============================] - 5s 6ms/step - loss: 0.1553 - acc: 0.9469 - val_loss: 0.1800 - val_acc: 0.9402\n",
            "Epoch 22/300\n",
            "825/825 [==============================] - 5s 6ms/step - loss: 0.1457 - acc: 0.9504 - val_loss: 0.1832 - val_acc: 0.9427\n",
            "Epoch 23/300\n",
            "825/825 [==============================] - 5s 6ms/step - loss: 0.1484 - acc: 0.9485 - val_loss: 0.1835 - val_acc: 0.9416\n",
            "Epoch 24/300\n",
            "825/825 [==============================] - 5s 6ms/step - loss: 0.1520 - acc: 0.9472 - val_loss: 0.1800 - val_acc: 0.9411\n",
            "Epoch 25/300\n",
            "825/825 [==============================] - 5s 6ms/step - loss: 0.1484 - acc: 0.9485 - val_loss: 0.1767 - val_acc: 0.9429\n",
            "Epoch 26/300\n",
            "825/825 [==============================] - 5s 6ms/step - loss: 0.1421 - acc: 0.9506 - val_loss: 0.1750 - val_acc: 0.9439\n",
            "Epoch 27/300\n",
            "825/825 [==============================] - 5s 6ms/step - loss: 0.1516 - acc: 0.9479 - val_loss: 0.1750 - val_acc: 0.9413\n",
            "Epoch 28/300\n",
            "825/825 [==============================] - 6s 7ms/step - loss: 0.1475 - acc: 0.9477 - val_loss: 0.1713 - val_acc: 0.9427\n",
            "Epoch 29/300\n",
            "825/825 [==============================] - 5s 6ms/step - loss: 0.1529 - acc: 0.9476 - val_loss: 0.1688 - val_acc: 0.9434\n",
            "Epoch 30/300\n",
            "825/825 [==============================] - 5s 7ms/step - loss: 0.1450 - acc: 0.9501 - val_loss: 0.1693 - val_acc: 0.9450\n",
            "Epoch 31/300\n",
            "825/825 [==============================] - 5s 7ms/step - loss: 0.1440 - acc: 0.9503 - val_loss: 0.1818 - val_acc: 0.9400\n",
            "Epoch 32/300\n",
            "825/825 [==============================] - 5s 6ms/step - loss: 0.1464 - acc: 0.9492 - val_loss: 0.1717 - val_acc: 0.9445\n",
            "Epoch 33/300\n",
            "825/825 [==============================] - 5s 6ms/step - loss: 0.1354 - acc: 0.9542 - val_loss: 0.1713 - val_acc: 0.9444\n",
            "Epoch 34/300\n",
            "825/825 [==============================] - 6s 7ms/step - loss: 0.1495 - acc: 0.9472 - val_loss: 0.1679 - val_acc: 0.9453\n",
            "Epoch 35/300\n",
            "825/825 [==============================] - 6s 7ms/step - loss: 0.1386 - acc: 0.9516 - val_loss: 0.1668 - val_acc: 0.9448\n",
            "Epoch 36/300\n",
            "825/825 [==============================] - 6s 7ms/step - loss: 0.1404 - acc: 0.9505 - val_loss: 0.1651 - val_acc: 0.9466\n",
            "Epoch 37/300\n",
            "825/825 [==============================] - 6s 7ms/step - loss: 0.1358 - acc: 0.9523 - val_loss: 0.1718 - val_acc: 0.9455\n",
            "Epoch 38/300\n",
            "825/825 [==============================] - 7s 8ms/step - loss: 0.1371 - acc: 0.9526 - val_loss: 0.1693 - val_acc: 0.9442\n",
            "Epoch 39/300\n",
            "825/825 [==============================] - 6s 7ms/step - loss: 0.1449 - acc: 0.9492 - val_loss: 0.1643 - val_acc: 0.9457\n",
            "Epoch 40/300\n",
            "825/825 [==============================] - 6s 8ms/step - loss: 0.1292 - acc: 0.9561 - val_loss: 0.2124 - val_acc: 0.9324\n",
            "Epoch 41/300\n",
            "825/825 [==============================] - 6s 8ms/step - loss: 0.1494 - acc: 0.9482 - val_loss: 0.1681 - val_acc: 0.9447\n",
            "Epoch 42/300\n",
            "825/825 [==============================] - 6s 7ms/step - loss: 0.1343 - acc: 0.9538 - val_loss: 0.1652 - val_acc: 0.9460\n",
            "Epoch 43/300\n",
            "825/825 [==============================] - 6s 7ms/step - loss: 0.1353 - acc: 0.9516 - val_loss: 0.1610 - val_acc: 0.9452\n",
            "Epoch 44/300\n",
            "825/825 [==============================] - 6s 7ms/step - loss: 0.1377 - acc: 0.9514 - val_loss: 0.1629 - val_acc: 0.9471\n",
            "Epoch 45/300\n",
            "825/825 [==============================] - 6s 8ms/step - loss: 0.1332 - acc: 0.9529 - val_loss: 0.1647 - val_acc: 0.9470\n",
            "Epoch 46/300\n",
            "825/825 [==============================] - 6s 7ms/step - loss: 0.1371 - acc: 0.9513 - val_loss: 0.1700 - val_acc: 0.9423\n",
            "Epoch 47/300\n",
            "825/825 [==============================] - 6s 7ms/step - loss: 0.1363 - acc: 0.9529 - val_loss: 0.1608 - val_acc: 0.9473\n",
            "Epoch 48/300\n",
            "825/825 [==============================] - 6s 7ms/step - loss: 0.1356 - acc: 0.9521 - val_loss: 0.1786 - val_acc: 0.9434\n",
            "Epoch 49/300\n",
            "825/825 [==============================] - 6s 7ms/step - loss: 0.1410 - acc: 0.9502 - val_loss: 0.1652 - val_acc: 0.9473\n",
            "Epoch 50/300\n",
            "825/825 [==============================] - 6s 7ms/step - loss: 0.1325 - acc: 0.9550 - val_loss: 0.1676 - val_acc: 0.9458\n",
            "Epoch 51/300\n",
            "825/825 [==============================] - 6s 7ms/step - loss: 0.1349 - acc: 0.9516 - val_loss: 0.1654 - val_acc: 0.9450\n",
            "Epoch 52/300\n",
            "825/825 [==============================] - 6s 7ms/step - loss: 0.1365 - acc: 0.9520 - val_loss: 0.1687 - val_acc: 0.9466\n",
            "Epoch 53/300\n",
            "825/825 [==============================] - 5s 7ms/step - loss: 0.1286 - acc: 0.9548 - val_loss: 0.1624 - val_acc: 0.9486\n",
            "Epoch 54/300\n",
            "825/825 [==============================] - 6s 8ms/step - loss: 0.1373 - acc: 0.9512 - val_loss: 0.1662 - val_acc: 0.9458\n",
            "Epoch 55/300\n",
            "825/825 [==============================] - 6s 7ms/step - loss: 0.1316 - acc: 0.9546 - val_loss: 0.1693 - val_acc: 0.9453\n",
            "Epoch 56/300\n",
            "825/825 [==============================] - 6s 7ms/step - loss: 0.1309 - acc: 0.9547 - val_loss: 0.1651 - val_acc: 0.9478\n",
            "Epoch 57/300\n",
            "825/825 [==============================] - 6s 7ms/step - loss: 0.1336 - acc: 0.9526 - val_loss: 0.1704 - val_acc: 0.9432\n",
            "Epoch 58/300\n",
            "825/825 [==============================] - 6s 7ms/step - loss: 0.1383 - acc: 0.9523 - val_loss: 0.1615 - val_acc: 0.9461\n",
            "Epoch 59/300\n",
            "825/825 [==============================] - 7s 8ms/step - loss: 0.1319 - acc: 0.9531 - val_loss: 0.1655 - val_acc: 0.9478\n",
            "Epoch 60/300\n",
            "825/825 [==============================] - 7s 8ms/step - loss: 0.1312 - acc: 0.9539 - val_loss: 0.1613 - val_acc: 0.9479\n",
            "Epoch 61/300\n",
            "825/825 [==============================] - 7s 8ms/step - loss: 0.1314 - acc: 0.9533 - val_loss: 0.1607 - val_acc: 0.9479\n",
            "Epoch 62/300\n",
            "825/825 [==============================] - 7s 8ms/step - loss: 0.1331 - acc: 0.9521 - val_loss: 0.1585 - val_acc: 0.9470\n",
            "Epoch 63/300\n",
            "825/825 [==============================] - 6s 8ms/step - loss: 0.1296 - acc: 0.9543 - val_loss: 0.1613 - val_acc: 0.9478\n",
            "Epoch 64/300\n",
            "825/825 [==============================] - 6s 7ms/step - loss: 0.1311 - acc: 0.9543 - val_loss: 0.1675 - val_acc: 0.9458\n",
            "Epoch 65/300\n",
            "825/825 [==============================] - 6s 7ms/step - loss: 0.1334 - acc: 0.9526 - val_loss: 0.1552 - val_acc: 0.9497\n",
            "Epoch 66/300\n",
            "825/825 [==============================] - 6s 7ms/step - loss: 0.1339 - acc: 0.9523 - val_loss: 0.1606 - val_acc: 0.9476\n",
            "Epoch 67/300\n",
            "825/825 [==============================] - 6s 7ms/step - loss: 0.1324 - acc: 0.9538 - val_loss: 0.1564 - val_acc: 0.9481\n",
            "Epoch 68/300\n",
            "825/825 [==============================] - 6s 7ms/step - loss: 0.1359 - acc: 0.9498 - val_loss: 0.1545 - val_acc: 0.9491\n",
            "Epoch 69/300\n",
            "825/825 [==============================] - 6s 7ms/step - loss: 0.1323 - acc: 0.9533 - val_loss: 0.1600 - val_acc: 0.9471\n",
            "Epoch 70/300\n",
            "825/825 [==============================] - 6s 7ms/step - loss: 0.1345 - acc: 0.9536 - val_loss: 0.1593 - val_acc: 0.9502\n",
            "Epoch 71/300\n",
            "825/825 [==============================] - 6s 7ms/step - loss: 0.1314 - acc: 0.9530 - val_loss: 0.1595 - val_acc: 0.9487\n",
            "Epoch 72/300\n",
            "825/825 [==============================] - 6s 7ms/step - loss: 0.1270 - acc: 0.9550 - val_loss: 0.1645 - val_acc: 0.9473\n",
            "Epoch 73/300\n",
            "825/825 [==============================] - 6s 7ms/step - loss: 0.1279 - acc: 0.9545 - val_loss: 0.1562 - val_acc: 0.9482\n",
            "Epoch 74/300\n",
            "825/825 [==============================] - 6s 7ms/step - loss: 0.1276 - acc: 0.9558 - val_loss: 0.1483 - val_acc: 0.9492\n",
            "Epoch 75/300\n",
            "825/825 [==============================] - 6s 8ms/step - loss: 0.1302 - acc: 0.9547 - val_loss: 0.1539 - val_acc: 0.9489\n",
            "Epoch 76/300\n",
            "825/825 [==============================] - 6s 7ms/step - loss: 0.1291 - acc: 0.9543 - val_loss: 0.1578 - val_acc: 0.9479\n",
            "Epoch 77/300\n",
            "825/825 [==============================] - 7s 8ms/step - loss: 0.1330 - acc: 0.9532 - val_loss: 0.1561 - val_acc: 0.9474\n",
            "Epoch 78/300\n",
            "825/825 [==============================] - 6s 8ms/step - loss: 0.1251 - acc: 0.9557 - val_loss: 0.1584 - val_acc: 0.9486\n",
            "Epoch 79/300\n",
            "825/825 [==============================] - 6s 8ms/step - loss: 0.1352 - acc: 0.9525 - val_loss: 0.1568 - val_acc: 0.9500\n",
            "Epoch 80/300\n",
            "825/825 [==============================] - 6s 7ms/step - loss: 0.1277 - acc: 0.9548 - val_loss: 0.1520 - val_acc: 0.9505\n",
            "Epoch 81/300\n",
            "825/825 [==============================] - 6s 7ms/step - loss: 0.1287 - acc: 0.9546 - val_loss: 0.1527 - val_acc: 0.9491\n",
            "Epoch 82/300\n",
            "825/825 [==============================] - 6s 7ms/step - loss: 0.1321 - acc: 0.9534 - val_loss: 0.1648 - val_acc: 0.9494\n",
            "Epoch 83/300\n",
            "825/825 [==============================] - 6s 7ms/step - loss: 0.1290 - acc: 0.9543 - val_loss: 0.1537 - val_acc: 0.9505\n",
            "Epoch 84/300\n",
            "825/825 [==============================] - 5s 7ms/step - loss: 0.1240 - acc: 0.9559 - val_loss: 0.1587 - val_acc: 0.9484\n",
            "Epoch 85/300\n",
            "825/825 [==============================] - 6s 7ms/step - loss: 0.1333 - acc: 0.9531 - val_loss: 0.1527 - val_acc: 0.9499\n",
            "Epoch 86/300\n",
            "825/825 [==============================] - 6s 7ms/step - loss: 0.1288 - acc: 0.9548 - val_loss: 0.1626 - val_acc: 0.9497\n",
            "Epoch 87/300\n",
            "825/825 [==============================] - 6s 7ms/step - loss: 0.1326 - acc: 0.9530 - val_loss: 0.1554 - val_acc: 0.9497\n",
            "Epoch 88/300\n",
            "825/825 [==============================] - 6s 7ms/step - loss: 0.1316 - acc: 0.9549 - val_loss: 0.1536 - val_acc: 0.9497\n",
            "Epoch 89/300\n",
            "825/825 [==============================] - 5s 7ms/step - loss: 0.1281 - acc: 0.9552 - val_loss: 0.1547 - val_acc: 0.9502\n",
            "Epoch 90/300\n",
            "825/825 [==============================] - 6s 7ms/step - loss: 0.1268 - acc: 0.9551 - val_loss: 0.1572 - val_acc: 0.9487\n",
            "Epoch 91/300\n",
            "825/825 [==============================] - 6s 7ms/step - loss: 0.1262 - acc: 0.9549 - val_loss: 0.1597 - val_acc: 0.9481\n",
            "Epoch 92/300\n",
            "825/825 [==============================] - 6s 7ms/step - loss: 0.1306 - acc: 0.9542 - val_loss: 0.1496 - val_acc: 0.9500\n",
            "Epoch 93/300\n",
            "825/825 [==============================] - 6s 7ms/step - loss: 0.1272 - acc: 0.9555 - val_loss: 0.1498 - val_acc: 0.9513\n",
            "Epoch 94/300\n",
            "825/825 [==============================] - 5s 7ms/step - loss: 0.1253 - acc: 0.9555 - val_loss: 0.1497 - val_acc: 0.9502\n",
            "Epoch 95/300\n",
            "825/825 [==============================] - 5s 7ms/step - loss: 0.1288 - acc: 0.9545 - val_loss: 0.1552 - val_acc: 0.9503\n",
            "Epoch 96/300\n",
            "825/825 [==============================] - 5s 7ms/step - loss: 0.1309 - acc: 0.9537 - val_loss: 0.1545 - val_acc: 0.9484\n",
            "Epoch 97/300\n",
            "825/825 [==============================] - 5s 6ms/step - loss: 0.1295 - acc: 0.9538 - val_loss: 0.1545 - val_acc: 0.9489\n",
            "Epoch 98/300\n",
            "825/825 [==============================] - 5s 7ms/step - loss: 0.1294 - acc: 0.9546 - val_loss: 0.1511 - val_acc: 0.9500\n",
            "Epoch 99/300\n",
            "825/825 [==============================] - 6s 7ms/step - loss: 0.1373 - acc: 0.9504 - val_loss: 0.1518 - val_acc: 0.9487\n",
            "Epoch 100/300\n",
            "825/825 [==============================] - 5s 7ms/step - loss: 0.1251 - acc: 0.9548 - val_loss: 0.1638 - val_acc: 0.9482\n",
            "Epoch 101/300\n",
            "825/825 [==============================] - 6s 7ms/step - loss: 0.1327 - acc: 0.9540 - val_loss: 0.1525 - val_acc: 0.9503\n",
            "Epoch 102/300\n",
            "825/825 [==============================] - 5s 6ms/step - loss: 0.1316 - acc: 0.9529 - val_loss: 0.1519 - val_acc: 0.9507\n",
            "Epoch 103/300\n",
            "825/825 [==============================] - 5s 7ms/step - loss: 0.1251 - acc: 0.9549 - val_loss: 0.1528 - val_acc: 0.9499\n",
            "Epoch 104/300\n",
            "825/825 [==============================] - 6s 7ms/step - loss: 0.1299 - acc: 0.9535 - val_loss: 0.1518 - val_acc: 0.9502\n",
            "Epoch 105/300\n",
            "825/825 [==============================] - 6s 7ms/step - loss: 0.1279 - acc: 0.9545 - val_loss: 0.1664 - val_acc: 0.9484\n",
            "Epoch 106/300\n",
            "825/825 [==============================] - 6s 7ms/step - loss: 0.1370 - acc: 0.9524 - val_loss: 0.1545 - val_acc: 0.9489\n",
            "Epoch 107/300\n",
            "825/825 [==============================] - 6s 7ms/step - loss: 0.1289 - acc: 0.9546 - val_loss: 0.1513 - val_acc: 0.9508\n",
            "Epoch 108/300\n",
            "825/825 [==============================] - 6s 7ms/step - loss: 0.1272 - acc: 0.9542 - val_loss: 0.1500 - val_acc: 0.9510\n",
            "Epoch 109/300\n",
            "825/825 [==============================] - 6s 7ms/step - loss: 0.1264 - acc: 0.9547 - val_loss: 0.1545 - val_acc: 0.9512\n",
            "Epoch 110/300\n",
            "825/825 [==============================] - 6s 7ms/step - loss: 0.1247 - acc: 0.9552 - val_loss: 0.1515 - val_acc: 0.9502\n",
            "Epoch 111/300\n",
            "825/825 [==============================] - 5s 7ms/step - loss: 0.1268 - acc: 0.9554 - val_loss: 0.1523 - val_acc: 0.9507\n",
            "Epoch 112/300\n",
            "825/825 [==============================] - 6s 7ms/step - loss: 0.1288 - acc: 0.9543 - val_loss: 0.1516 - val_acc: 0.9505\n",
            "Epoch 113/300\n",
            "825/825 [==============================] - 7s 9ms/step - loss: 0.1252 - acc: 0.9550 - val_loss: 0.1522 - val_acc: 0.9507\n",
            "Epoch 114/300\n",
            "825/825 [==============================] - 6s 8ms/step - loss: 0.1242 - acc: 0.9554 - val_loss: 0.1525 - val_acc: 0.9499\n",
            "Epoch 115/300\n",
            "825/825 [==============================] - 6s 7ms/step - loss: 0.1292 - acc: 0.9542 - val_loss: 0.1525 - val_acc: 0.9491\n",
            "Epoch 116/300\n",
            "825/825 [==============================] - 6s 8ms/step - loss: 0.1266 - acc: 0.9552 - val_loss: 0.1530 - val_acc: 0.9500\n",
            "Epoch 117/300\n",
            "825/825 [==============================] - 6s 8ms/step - loss: 0.1335 - acc: 0.9511 - val_loss: 0.1549 - val_acc: 0.9495\n",
            "Epoch 118/300\n",
            "825/825 [==============================] - 6s 8ms/step - loss: 0.1258 - acc: 0.9551 - val_loss: 0.1560 - val_acc: 0.9495\n",
            "Epoch 119/300\n",
            "825/825 [==============================] - 7s 9ms/step - loss: 0.1300 - acc: 0.9539 - val_loss: 0.1572 - val_acc: 0.9502\n",
            "Epoch 120/300\n",
            "825/825 [==============================] - 6s 7ms/step - loss: 0.1295 - acc: 0.9543 - val_loss: 0.1539 - val_acc: 0.9479\n",
            "Epoch 121/300\n",
            "825/825 [==============================] - 6s 7ms/step - loss: 0.1273 - acc: 0.9550 - val_loss: 0.1579 - val_acc: 0.9482\n",
            "Epoch 122/300\n",
            "825/825 [==============================] - 6s 8ms/step - loss: 0.1322 - acc: 0.9538 - val_loss: 0.1568 - val_acc: 0.9491\n",
            "Epoch 123/300\n",
            "825/825 [==============================] - 7s 8ms/step - loss: 0.1306 - acc: 0.9540 - val_loss: 0.1574 - val_acc: 0.9491\n",
            "Epoch 124/300\n",
            "825/825 [==============================] - 7s 8ms/step - loss: 0.1250 - acc: 0.9549 - val_loss: 0.1539 - val_acc: 0.9494\n",
            "Epoch 125/300\n",
            "825/825 [==============================] - 6s 7ms/step - loss: 0.1271 - acc: 0.9543 - val_loss: 0.1527 - val_acc: 0.9494\n",
            "Epoch 126/300\n",
            "825/825 [==============================] - 6s 7ms/step - loss: 0.1227 - acc: 0.9554 - val_loss: 0.1547 - val_acc: 0.9486\n",
            "Epoch 127/300\n",
            "825/825 [==============================] - 6s 7ms/step - loss: 0.1238 - acc: 0.9565 - val_loss: 0.1562 - val_acc: 0.9502\n",
            "Epoch 128/300\n",
            "825/825 [==============================] - 7s 8ms/step - loss: 0.1342 - acc: 0.9529 - val_loss: 0.1535 - val_acc: 0.9494\n",
            "Epoch 129/300\n",
            "825/825 [==============================] - 6s 8ms/step - loss: 0.1264 - acc: 0.9553 - val_loss: 0.1545 - val_acc: 0.9494\n",
            "Epoch 130/300\n",
            "825/825 [==============================] - 6s 7ms/step - loss: 0.1238 - acc: 0.9556 - val_loss: 0.1563 - val_acc: 0.9497\n",
            "Epoch 131/300\n",
            "825/825 [==============================] - 6s 7ms/step - loss: 0.1277 - acc: 0.9554 - val_loss: 0.1591 - val_acc: 0.9502\n",
            "Epoch 132/300\n",
            "825/825 [==============================] - 6s 7ms/step - loss: 0.1265 - acc: 0.9543 - val_loss: 0.1547 - val_acc: 0.9500\n",
            "Epoch 133/300\n",
            "825/825 [==============================] - 6s 7ms/step - loss: 0.1234 - acc: 0.9570 - val_loss: 0.1556 - val_acc: 0.9484\n",
            "Epoch 134/300\n",
            "825/825 [==============================] - 6s 7ms/step - loss: 0.1243 - acc: 0.9574 - val_loss: 0.1574 - val_acc: 0.9492\n",
            "Epoch 135/300\n",
            "825/825 [==============================] - 6s 7ms/step - loss: 0.1271 - acc: 0.9553 - val_loss: 0.1551 - val_acc: 0.9489\n",
            "Epoch 136/300\n",
            "825/825 [==============================] - 6s 7ms/step - loss: 0.1279 - acc: 0.9544 - val_loss: 0.1575 - val_acc: 0.9494\n",
            "Epoch 137/300\n",
            "825/825 [==============================] - 6s 7ms/step - loss: 0.1282 - acc: 0.9549 - val_loss: 0.1537 - val_acc: 0.9497\n",
            "Epoch 138/300\n",
            "825/825 [==============================] - 6s 7ms/step - loss: 0.1281 - acc: 0.9548 - val_loss: 0.1549 - val_acc: 0.9495\n",
            "Epoch 139/300\n",
            "825/825 [==============================] - 6s 7ms/step - loss: 0.1258 - acc: 0.9558 - val_loss: 0.1541 - val_acc: 0.9486\n",
            "Epoch 140/300\n",
            "825/825 [==============================] - 6s 7ms/step - loss: 0.1273 - acc: 0.9542 - val_loss: 0.1553 - val_acc: 0.9503\n",
            "Epoch 141/300\n",
            "825/825 [==============================] - 6s 7ms/step - loss: 0.1302 - acc: 0.9531 - val_loss: 0.1501 - val_acc: 0.9494\n",
            "Epoch 142/300\n",
            "825/825 [==============================] - 6s 7ms/step - loss: 0.1235 - acc: 0.9561 - val_loss: 0.1544 - val_acc: 0.9481\n",
            "Epoch 143/300\n",
            "825/825 [==============================] - 6s 7ms/step - loss: 0.1282 - acc: 0.9542 - val_loss: 0.1534 - val_acc: 0.9476\n",
            "Epoch 144/300\n",
            "825/825 [==============================] - 6s 7ms/step - loss: 0.1342 - acc: 0.9529 - val_loss: 0.1523 - val_acc: 0.9499\n",
            "Epoch 145/300\n",
            "825/825 [==============================] - 6s 8ms/step - loss: 0.1226 - acc: 0.9569 - val_loss: 0.1510 - val_acc: 0.9497\n",
            "Epoch 146/300\n",
            "825/825 [==============================] - 6s 7ms/step - loss: 0.1263 - acc: 0.9549 - val_loss: 0.1564 - val_acc: 0.9497\n",
            "Epoch 147/300\n",
            "825/825 [==============================] - 7s 8ms/step - loss: 0.1269 - acc: 0.9536 - val_loss: 0.1529 - val_acc: 0.9484\n",
            "Epoch 148/300\n",
            "825/825 [==============================] - 6s 7ms/step - loss: 0.1271 - acc: 0.9552 - val_loss: 0.1545 - val_acc: 0.9487\n",
            "Epoch 149/300\n",
            "825/825 [==============================] - 6s 7ms/step - loss: 0.1209 - acc: 0.9572 - val_loss: 0.1551 - val_acc: 0.9503\n",
            "Epoch 150/300\n",
            "825/825 [==============================] - 6s 7ms/step - loss: 0.1283 - acc: 0.9541 - val_loss: 0.1573 - val_acc: 0.9499\n",
            "Epoch 151/300\n",
            "825/825 [==============================] - 6s 7ms/step - loss: 0.1281 - acc: 0.9544 - val_loss: 0.1581 - val_acc: 0.9478\n",
            "Epoch 152/300\n",
            "825/825 [==============================] - 6s 7ms/step - loss: 0.1305 - acc: 0.9536 - val_loss: 0.1583 - val_acc: 0.9487\n",
            "Epoch 153/300\n",
            "825/825 [==============================] - 6s 7ms/step - loss: 0.1288 - acc: 0.9542 - val_loss: 0.1552 - val_acc: 0.9503\n",
            "Epoch 154/300\n",
            "825/825 [==============================] - 6s 8ms/step - loss: 0.1253 - acc: 0.9545 - val_loss: 0.1546 - val_acc: 0.9499\n",
            "Epoch 155/300\n",
            "825/825 [==============================] - 6s 7ms/step - loss: 0.1242 - acc: 0.9557 - val_loss: 0.1561 - val_acc: 0.9499\n",
            "Epoch 156/300\n",
            "825/825 [==============================] - 6s 7ms/step - loss: 0.1247 - acc: 0.9555 - val_loss: 0.1571 - val_acc: 0.9489\n",
            "Epoch 157/300\n",
            "825/825 [==============================] - 6s 7ms/step - loss: 0.1246 - acc: 0.9558 - val_loss: 0.1561 - val_acc: 0.9487\n",
            "Epoch 158/300\n",
            "825/825 [==============================] - 6s 8ms/step - loss: 0.1303 - acc: 0.9533 - val_loss: 0.1577 - val_acc: 0.9482\n",
            "Epoch 159/300\n",
            "825/825 [==============================] - 6s 7ms/step - loss: 0.1259 - acc: 0.9554 - val_loss: 0.1540 - val_acc: 0.9486\n",
            "Epoch 160/300\n",
            "825/825 [==============================] - 7s 8ms/step - loss: 0.1298 - acc: 0.9542 - val_loss: 0.1577 - val_acc: 0.9507\n",
            "Epoch 161/300\n",
            "825/825 [==============================] - 7s 9ms/step - loss: 0.1242 - acc: 0.9550 - val_loss: 0.1575 - val_acc: 0.9497\n",
            "Epoch 162/300\n",
            "825/825 [==============================] - 6s 8ms/step - loss: 0.1274 - acc: 0.9525 - val_loss: 0.1583 - val_acc: 0.9508\n",
            "Epoch 163/300\n",
            "825/825 [==============================] - 6s 8ms/step - loss: 0.1322 - acc: 0.9527 - val_loss: 0.1573 - val_acc: 0.9502\n",
            "Epoch 164/300\n",
            "825/825 [==============================] - 6s 7ms/step - loss: 0.1232 - acc: 0.9561 - val_loss: 0.1605 - val_acc: 0.9502\n",
            "Epoch 165/300\n",
            "825/825 [==============================] - 6s 7ms/step - loss: 0.1313 - acc: 0.9538 - val_loss: 0.1581 - val_acc: 0.9508\n",
            "Epoch 166/300\n",
            "825/825 [==============================] - 6s 7ms/step - loss: 0.1275 - acc: 0.9544 - val_loss: 0.1578 - val_acc: 0.9499\n",
            "Epoch 167/300\n",
            "825/825 [==============================] - 6s 7ms/step - loss: 0.1304 - acc: 0.9538 - val_loss: 0.1565 - val_acc: 0.9500\n",
            "Epoch 168/300\n",
            "825/825 [==============================] - 6s 8ms/step - loss: 0.1282 - acc: 0.9544 - val_loss: 0.1576 - val_acc: 0.9500\n",
            "Epoch 169/300\n",
            "825/825 [==============================] - 6s 8ms/step - loss: 0.1264 - acc: 0.9547 - val_loss: 0.1649 - val_acc: 0.9473\n",
            "Epoch 170/300\n",
            "825/825 [==============================] - 6s 7ms/step - loss: 0.1344 - acc: 0.9531 - val_loss: 0.1566 - val_acc: 0.9497\n",
            "Epoch 171/300\n",
            "825/825 [==============================] - 6s 7ms/step - loss: 0.1255 - acc: 0.9554 - val_loss: 0.1555 - val_acc: 0.9500\n",
            "Epoch 172/300\n",
            "825/825 [==============================] - 6s 7ms/step - loss: 0.1255 - acc: 0.9545 - val_loss: 0.1557 - val_acc: 0.9502\n",
            "Epoch 173/300\n",
            "825/825 [==============================] - 6s 7ms/step - loss: 0.1318 - acc: 0.9527 - val_loss: 0.1588 - val_acc: 0.9499\n",
            "Epoch 174/300\n",
            "825/825 [==============================] - 6s 7ms/step - loss: 0.1224 - acc: 0.9559 - val_loss: 0.1582 - val_acc: 0.9499\n",
            "Epoch 175/300\n",
            "825/825 [==============================] - 6s 8ms/step - loss: 0.1229 - acc: 0.9568 - val_loss: 0.1582 - val_acc: 0.9503\n",
            "Epoch 176/300\n",
            "825/825 [==============================] - 6s 7ms/step - loss: 0.1367 - acc: 0.9512 - val_loss: 0.1514 - val_acc: 0.9487\n",
            "Epoch 177/300\n",
            "825/825 [==============================] - 6s 7ms/step - loss: 0.1263 - acc: 0.9554 - val_loss: 0.1547 - val_acc: 0.9503\n",
            "Epoch 178/300\n",
            "825/825 [==============================] - 6s 7ms/step - loss: 0.1268 - acc: 0.9549 - val_loss: 0.1562 - val_acc: 0.9500\n",
            "Epoch 179/300\n",
            "825/825 [==============================] - 6s 7ms/step - loss: 0.1256 - acc: 0.9553 - val_loss: 0.1565 - val_acc: 0.9502\n",
            "Epoch 180/300\n",
            "825/825 [==============================] - 6s 8ms/step - loss: 0.1259 - acc: 0.9550 - val_loss: 0.1543 - val_acc: 0.9502\n",
            "Epoch 181/300\n",
            "825/825 [==============================] - 6s 7ms/step - loss: 0.1242 - acc: 0.9553 - val_loss: 0.1552 - val_acc: 0.9505\n",
            "Epoch 182/300\n",
            "825/825 [==============================] - 5s 7ms/step - loss: 0.1257 - acc: 0.9554 - val_loss: 0.1588 - val_acc: 0.9494\n",
            "Epoch 183/300\n",
            "825/825 [==============================] - 6s 7ms/step - loss: 0.1252 - acc: 0.9565 - val_loss: 0.1544 - val_acc: 0.9497\n",
            "Epoch 184/300\n",
            "825/825 [==============================] - 6s 7ms/step - loss: 0.1232 - acc: 0.9558 - val_loss: 0.1567 - val_acc: 0.9495\n",
            "Epoch 185/300\n",
            "825/825 [==============================] - 5s 7ms/step - loss: 0.1326 - acc: 0.9534 - val_loss: 0.1538 - val_acc: 0.9499\n",
            "Epoch 186/300\n",
            "825/825 [==============================] - 6s 7ms/step - loss: 0.1247 - acc: 0.9555 - val_loss: 0.1577 - val_acc: 0.9499\n",
            "Epoch 187/300\n",
            "825/825 [==============================] - 6s 7ms/step - loss: 0.1295 - acc: 0.9536 - val_loss: 0.1568 - val_acc: 0.9508\n",
            "Epoch 188/300\n",
            "825/825 [==============================] - 6s 7ms/step - loss: 0.1302 - acc: 0.9534 - val_loss: 0.1503 - val_acc: 0.9502\n",
            "Epoch 189/300\n",
            "825/825 [==============================] - 6s 7ms/step - loss: 0.1260 - acc: 0.9550 - val_loss: 0.1591 - val_acc: 0.9503\n",
            "Epoch 190/300\n",
            "825/825 [==============================] - 5s 7ms/step - loss: 0.1283 - acc: 0.9541 - val_loss: 0.1587 - val_acc: 0.9500\n",
            "Epoch 191/300\n",
            "825/825 [==============================] - 5s 7ms/step - loss: 0.1247 - acc: 0.9556 - val_loss: 0.1491 - val_acc: 0.9500\n",
            "Epoch 192/300\n",
            "825/825 [==============================] - 6s 7ms/step - loss: 0.1263 - acc: 0.9551 - val_loss: 0.1518 - val_acc: 0.9505\n",
            "Epoch 193/300\n",
            "825/825 [==============================] - 6s 7ms/step - loss: 0.1254 - acc: 0.9555 - val_loss: 0.1528 - val_acc: 0.9512\n",
            "Epoch 194/300\n",
            "825/825 [==============================] - 6s 7ms/step - loss: 0.1261 - acc: 0.9548 - val_loss: 0.1526 - val_acc: 0.9510\n",
            "Epoch 195/300\n",
            "825/825 [==============================] - 6s 7ms/step - loss: 0.1232 - acc: 0.9564 - val_loss: 0.1562 - val_acc: 0.9499\n",
            "Epoch 196/300\n",
            "825/825 [==============================] - 5s 7ms/step - loss: 0.1272 - acc: 0.9547 - val_loss: 0.1559 - val_acc: 0.9513\n",
            "Epoch 197/300\n",
            "825/825 [==============================] - 6s 7ms/step - loss: 0.1274 - acc: 0.9550 - val_loss: 0.1555 - val_acc: 0.9507\n",
            "Epoch 198/300\n",
            "825/825 [==============================] - 5s 7ms/step - loss: 0.1222 - acc: 0.9557 - val_loss: 0.1564 - val_acc: 0.9503\n",
            "Epoch 199/300\n",
            "825/825 [==============================] - 5s 7ms/step - loss: 0.1265 - acc: 0.9557 - val_loss: 0.1559 - val_acc: 0.9510\n",
            "Epoch 200/300\n",
            "825/825 [==============================] - 6s 7ms/step - loss: 0.1266 - acc: 0.9555 - val_loss: 0.1570 - val_acc: 0.9505\n",
            "Epoch 201/300\n",
            "825/825 [==============================] - 6s 7ms/step - loss: 0.1242 - acc: 0.9552 - val_loss: 0.1544 - val_acc: 0.9508\n",
            "Epoch 202/300\n",
            "825/825 [==============================] - 6s 7ms/step - loss: 0.1276 - acc: 0.9548 - val_loss: 0.1605 - val_acc: 0.9507\n",
            "Epoch 203/300\n",
            "825/825 [==============================] - 6s 7ms/step - loss: 0.1194 - acc: 0.9577 - val_loss: 0.1534 - val_acc: 0.9507\n",
            "Epoch 204/300\n",
            "825/825 [==============================] - 6s 7ms/step - loss: 0.1244 - acc: 0.9562 - val_loss: 0.1579 - val_acc: 0.9510\n",
            "Epoch 205/300\n",
            "825/825 [==============================] - 6s 7ms/step - loss: 0.1265 - acc: 0.9535 - val_loss: 0.1550 - val_acc: 0.9503\n",
            "Epoch 206/300\n",
            "825/825 [==============================] - 6s 7ms/step - loss: 0.1233 - acc: 0.9559 - val_loss: 0.1545 - val_acc: 0.9512\n",
            "Epoch 207/300\n",
            "825/825 [==============================] - 6s 8ms/step - loss: 0.1267 - acc: 0.9551 - val_loss: 0.1563 - val_acc: 0.9508\n",
            "Epoch 208/300\n",
            "825/825 [==============================] - 6s 7ms/step - loss: 0.1255 - acc: 0.9561 - val_loss: 0.1567 - val_acc: 0.9508\n",
            "Epoch 209/300\n",
            "825/825 [==============================] - 6s 7ms/step - loss: 0.1252 - acc: 0.9541 - val_loss: 0.1558 - val_acc: 0.9513\n",
            "Epoch 210/300\n",
            "825/825 [==============================] - 6s 7ms/step - loss: 0.1287 - acc: 0.9544 - val_loss: 0.1584 - val_acc: 0.9499\n",
            "Epoch 211/300\n",
            "825/825 [==============================] - 6s 7ms/step - loss: 0.1261 - acc: 0.9551 - val_loss: 0.1566 - val_acc: 0.9510\n",
            "Epoch 212/300\n",
            "825/825 [==============================] - 6s 7ms/step - loss: 0.1266 - acc: 0.9543 - val_loss: 0.1554 - val_acc: 0.9495\n",
            "Epoch 213/300\n",
            "825/825 [==============================] - 6s 7ms/step - loss: 0.1294 - acc: 0.9531 - val_loss: 0.1548 - val_acc: 0.9510\n",
            "Epoch 214/300\n",
            "825/825 [==============================] - 7s 8ms/step - loss: 0.1267 - acc: 0.9544 - val_loss: 0.1580 - val_acc: 0.9500\n",
            "Epoch 215/300\n",
            "825/825 [==============================] - 7s 9ms/step - loss: 0.1259 - acc: 0.9552 - val_loss: 0.1550 - val_acc: 0.9520\n",
            "Epoch 216/300\n",
            "825/825 [==============================] - 9s 10ms/step - loss: 0.1258 - acc: 0.9549 - val_loss: 0.1574 - val_acc: 0.9508\n",
            "Epoch 217/300\n",
            "825/825 [==============================] - 10s 12ms/step - loss: 0.1229 - acc: 0.9563 - val_loss: 0.1572 - val_acc: 0.9499\n",
            "Epoch 218/300\n",
            "825/825 [==============================] - 10s 12ms/step - loss: 0.1234 - acc: 0.9550 - val_loss: 0.1639 - val_acc: 0.9495\n",
            "Epoch 219/300\n",
            "825/825 [==============================] - 7s 8ms/step - loss: 0.1335 - acc: 0.9513 - val_loss: 0.1563 - val_acc: 0.9499\n",
            "Epoch 220/300\n",
            "825/825 [==============================] - 7s 8ms/step - loss: 0.1250 - acc: 0.9546 - val_loss: 0.1569 - val_acc: 0.9507\n",
            "Epoch 221/300\n",
            "825/825 [==============================] - 6s 8ms/step - loss: 0.1224 - acc: 0.9569 - val_loss: 0.1555 - val_acc: 0.9507\n",
            "Epoch 222/300\n",
            "825/825 [==============================] - 6s 7ms/step - loss: 0.1260 - acc: 0.9541 - val_loss: 0.1555 - val_acc: 0.9507\n",
            "Epoch 223/300\n",
            "825/825 [==============================] - 6s 7ms/step - loss: 0.1281 - acc: 0.9547 - val_loss: 0.1547 - val_acc: 0.9510\n",
            "Epoch 224/300\n",
            "825/825 [==============================] - 7s 8ms/step - loss: 0.1235 - acc: 0.9568 - val_loss: 0.1553 - val_acc: 0.9508\n",
            "Epoch 225/300\n",
            "825/825 [==============================] - 7s 9ms/step - loss: 0.1249 - acc: 0.9561 - val_loss: 0.1550 - val_acc: 0.9503\n",
            "Epoch 226/300\n",
            "825/825 [==============================] - 8s 9ms/step - loss: 0.1261 - acc: 0.9547 - val_loss: 0.1553 - val_acc: 0.9481\n",
            "Epoch 227/300\n",
            "825/825 [==============================] - 8s 9ms/step - loss: 0.1327 - acc: 0.9537 - val_loss: 0.1515 - val_acc: 0.9497\n",
            "Epoch 228/300\n",
            "825/825 [==============================] - 7s 9ms/step - loss: 0.1321 - acc: 0.9521 - val_loss: 0.1521 - val_acc: 0.9515\n",
            "Epoch 229/300\n",
            "825/825 [==============================] - 6s 8ms/step - loss: 0.1223 - acc: 0.9562 - val_loss: 0.1520 - val_acc: 0.9515\n",
            "Epoch 230/300\n",
            "825/825 [==============================] - 7s 8ms/step - loss: 0.1256 - acc: 0.9535 - val_loss: 0.1523 - val_acc: 0.9513\n",
            "Epoch 231/300\n",
            "825/825 [==============================] - 6s 8ms/step - loss: 0.1224 - acc: 0.9569 - val_loss: 0.1530 - val_acc: 0.9508\n",
            "Epoch 232/300\n",
            "825/825 [==============================] - 6s 8ms/step - loss: 0.1225 - acc: 0.9555 - val_loss: 0.1529 - val_acc: 0.9520\n",
            "Epoch 233/300\n",
            "825/825 [==============================] - 6s 8ms/step - loss: 0.1267 - acc: 0.9542 - val_loss: 0.1515 - val_acc: 0.9510\n",
            "Epoch 234/300\n",
            "825/825 [==============================] - 6s 8ms/step - loss: 0.1250 - acc: 0.9561 - val_loss: 0.1496 - val_acc: 0.9518\n",
            "Epoch 235/300\n",
            "825/825 [==============================] - 6s 8ms/step - loss: 0.1251 - acc: 0.9560 - val_loss: 0.1599 - val_acc: 0.9495\n",
            "Epoch 236/300\n",
            "825/825 [==============================] - 6s 8ms/step - loss: 0.1313 - acc: 0.9542 - val_loss: 0.1533 - val_acc: 0.9499\n",
            "Epoch 237/300\n",
            "825/825 [==============================] - 6s 8ms/step - loss: 0.1301 - acc: 0.9530 - val_loss: 0.1536 - val_acc: 0.9499\n",
            "Epoch 238/300\n",
            "825/825 [==============================] - 7s 8ms/step - loss: 0.1217 - acc: 0.9576 - val_loss: 0.1518 - val_acc: 0.9512\n",
            "Epoch 239/300\n",
            "825/825 [==============================] - 6s 8ms/step - loss: 0.1286 - acc: 0.9540 - val_loss: 0.1543 - val_acc: 0.9502\n",
            "Epoch 240/300\n",
            "825/825 [==============================] - 6s 8ms/step - loss: 0.1231 - acc: 0.9554 - val_loss: 0.1542 - val_acc: 0.9499\n",
            "Epoch 241/300\n",
            "825/825 [==============================] - 6s 8ms/step - loss: 0.1224 - acc: 0.9564 - val_loss: 0.1521 - val_acc: 0.9492\n",
            "Epoch 242/300\n",
            "825/825 [==============================] - 6s 7ms/step - loss: 0.1243 - acc: 0.9547 - val_loss: 0.1530 - val_acc: 0.9512\n",
            "Epoch 243/300\n",
            "825/825 [==============================] - 6s 7ms/step - loss: 0.1305 - acc: 0.9541 - val_loss: 0.1528 - val_acc: 0.9499\n",
            "Epoch 244/300\n",
            "825/825 [==============================] - 6s 7ms/step - loss: 0.1266 - acc: 0.9550 - val_loss: 0.1501 - val_acc: 0.9495\n",
            "Epoch 245/300\n",
            "825/825 [==============================] - 6s 8ms/step - loss: 0.1281 - acc: 0.9540 - val_loss: 0.1504 - val_acc: 0.9518\n",
            "Epoch 246/300\n",
            "825/825 [==============================] - 7s 8ms/step - loss: 0.1241 - acc: 0.9564 - val_loss: 0.1523 - val_acc: 0.9508\n",
            "Epoch 247/300\n",
            "825/825 [==============================] - 6s 7ms/step - loss: 0.1251 - acc: 0.9555 - val_loss: 0.1532 - val_acc: 0.9495\n",
            "Epoch 248/300\n",
            "825/825 [==============================] - 7s 8ms/step - loss: 0.1263 - acc: 0.9541 - val_loss: 0.1531 - val_acc: 0.9520\n",
            "Epoch 249/300\n",
            "825/825 [==============================] - 6s 8ms/step - loss: 0.1298 - acc: 0.9540 - val_loss: 0.1496 - val_acc: 0.9513\n",
            "Epoch 250/300\n",
            "825/825 [==============================] - 6s 7ms/step - loss: 0.1237 - acc: 0.9560 - val_loss: 0.1484 - val_acc: 0.9505\n",
            "Epoch 251/300\n",
            "825/825 [==============================] - 6s 7ms/step - loss: 0.1253 - acc: 0.9556 - val_loss: 0.1498 - val_acc: 0.9503\n",
            "Epoch 252/300\n",
            "825/825 [==============================] - 7s 8ms/step - loss: 0.1317 - acc: 0.9532 - val_loss: 0.1538 - val_acc: 0.9500\n",
            "Epoch 253/300\n",
            "825/825 [==============================] - 6s 8ms/step - loss: 0.1266 - acc: 0.9532 - val_loss: 0.1531 - val_acc: 0.9505\n",
            "Epoch 254/300\n",
            "825/825 [==============================] - 6s 8ms/step - loss: 0.1266 - acc: 0.9554 - val_loss: 0.1518 - val_acc: 0.9503\n",
            "Epoch 255/300\n",
            "825/825 [==============================] - 5s 7ms/step - loss: 0.1271 - acc: 0.9536 - val_loss: 0.1514 - val_acc: 0.9523\n",
            "Epoch 256/300\n",
            "825/825 [==============================] - 5s 6ms/step - loss: 0.1222 - acc: 0.9560 - val_loss: 0.1707 - val_acc: 0.9476\n",
            "Epoch 257/300\n",
            "825/825 [==============================] - 6s 7ms/step - loss: 0.1306 - acc: 0.9543 - val_loss: 0.1539 - val_acc: 0.9499\n",
            "Epoch 258/300\n",
            "825/825 [==============================] - 5s 7ms/step - loss: 0.1249 - acc: 0.9562 - val_loss: 0.1555 - val_acc: 0.9500\n",
            "Epoch 259/300\n",
            "825/825 [==============================] - 5s 6ms/step - loss: 0.1277 - acc: 0.9540 - val_loss: 0.1547 - val_acc: 0.9513\n",
            "Epoch 260/300\n",
            "825/825 [==============================] - 6s 7ms/step - loss: 0.1203 - acc: 0.9571 - val_loss: 0.1542 - val_acc: 0.9513\n",
            "Epoch 261/300\n",
            "825/825 [==============================] - 5s 7ms/step - loss: 0.1289 - acc: 0.9539 - val_loss: 0.1516 - val_acc: 0.9502\n",
            "Epoch 262/300\n",
            "825/825 [==============================] - 6s 7ms/step - loss: 0.1252 - acc: 0.9546 - val_loss: 0.1507 - val_acc: 0.9513\n",
            "Epoch 263/300\n",
            "825/825 [==============================] - 5s 7ms/step - loss: 0.1287 - acc: 0.9562 - val_loss: 0.1508 - val_acc: 0.9513\n",
            "Epoch 264/300\n",
            "825/825 [==============================] - 5s 6ms/step - loss: 0.1248 - acc: 0.9554 - val_loss: 0.1495 - val_acc: 0.9513\n",
            "Epoch 265/300\n",
            "825/825 [==============================] - 6s 7ms/step - loss: 0.1235 - acc: 0.9563 - val_loss: 0.1485 - val_acc: 0.9512\n",
            "Epoch 266/300\n",
            "825/825 [==============================] - 5s 7ms/step - loss: 0.1248 - acc: 0.9550 - val_loss: 0.1495 - val_acc: 0.9510\n",
            "Epoch 267/300\n",
            "825/825 [==============================] - 6s 7ms/step - loss: 0.1238 - acc: 0.9552 - val_loss: 0.1485 - val_acc: 0.9508\n",
            "Epoch 268/300\n",
            "825/825 [==============================] - 6s 7ms/step - loss: 0.1203 - acc: 0.9565 - val_loss: 0.1503 - val_acc: 0.9505\n",
            "Epoch 269/300\n",
            "825/825 [==============================] - 6s 8ms/step - loss: 0.1300 - acc: 0.9533 - val_loss: 0.1555 - val_acc: 0.9495\n",
            "Epoch 270/300\n",
            "825/825 [==============================] - 6s 8ms/step - loss: 0.1299 - acc: 0.9536 - val_loss: 0.1499 - val_acc: 0.9508\n",
            "Epoch 271/300\n",
            "825/825 [==============================] - 6s 7ms/step - loss: 0.1209 - acc: 0.9577 - val_loss: 0.1502 - val_acc: 0.9510\n",
            "Epoch 272/300\n",
            "825/825 [==============================] - 6s 7ms/step - loss: 0.1227 - acc: 0.9574 - val_loss: 0.1512 - val_acc: 0.9508\n",
            "Epoch 273/300\n",
            "825/825 [==============================] - 6s 7ms/step - loss: 0.1273 - acc: 0.9532 - val_loss: 0.1543 - val_acc: 0.9499\n",
            "Epoch 274/300\n",
            "825/825 [==============================] - 6s 7ms/step - loss: 0.1278 - acc: 0.9542 - val_loss: 0.1519 - val_acc: 0.9505\n",
            "Epoch 275/300\n",
            "825/825 [==============================] - 6s 7ms/step - loss: 0.1309 - acc: 0.9533 - val_loss: 0.1484 - val_acc: 0.9508\n",
            "Epoch 276/300\n",
            "825/825 [==============================] - 6s 7ms/step - loss: 0.1257 - acc: 0.9551 - val_loss: 0.1488 - val_acc: 0.9512\n",
            "Epoch 277/300\n",
            "825/825 [==============================] - 6s 7ms/step - loss: 0.1209 - acc: 0.9569 - val_loss: 0.1508 - val_acc: 0.9513\n",
            "Epoch 278/300\n",
            "825/825 [==============================] - 6s 7ms/step - loss: 0.1194 - acc: 0.9566 - val_loss: 0.1498 - val_acc: 0.9507\n",
            "Epoch 279/300\n",
            "825/825 [==============================] - 6s 7ms/step - loss: 0.1263 - acc: 0.9551 - val_loss: 0.1478 - val_acc: 0.9507\n",
            "Epoch 280/300\n",
            "825/825 [==============================] - 6s 7ms/step - loss: 0.1210 - acc: 0.9567 - val_loss: 0.1495 - val_acc: 0.9513\n",
            "Epoch 281/300\n",
            "825/825 [==============================] - 6s 7ms/step - loss: 0.1250 - acc: 0.9559 - val_loss: 0.1502 - val_acc: 0.9513\n",
            "Epoch 282/300\n",
            "825/825 [==============================] - 6s 7ms/step - loss: 0.1314 - acc: 0.9528 - val_loss: 0.1545 - val_acc: 0.9491\n",
            "Epoch 283/300\n",
            "825/825 [==============================] - 6s 7ms/step - loss: 0.1264 - acc: 0.9551 - val_loss: 0.1486 - val_acc: 0.9503\n",
            "Epoch 284/300\n",
            "825/825 [==============================] - 7s 8ms/step - loss: 0.1271 - acc: 0.9543 - val_loss: 0.1492 - val_acc: 0.9507\n",
            "Epoch 285/300\n",
            "825/825 [==============================] - 8s 10ms/step - loss: 0.1239 - acc: 0.9564 - val_loss: 0.1493 - val_acc: 0.9507\n",
            "Epoch 286/300\n",
            "825/825 [==============================] - 7s 8ms/step - loss: 0.1217 - acc: 0.9573 - val_loss: 0.1502 - val_acc: 0.9503\n",
            "Epoch 287/300\n",
            "825/825 [==============================] - 6s 7ms/step - loss: 0.1282 - acc: 0.9540 - val_loss: 0.1570 - val_acc: 0.9478\n",
            "Epoch 288/300\n",
            "825/825 [==============================] - 6s 7ms/step - loss: 0.1279 - acc: 0.9537 - val_loss: 0.1483 - val_acc: 0.9513\n",
            "Epoch 289/300\n",
            "825/825 [==============================] - 6s 7ms/step - loss: 0.1236 - acc: 0.9561 - val_loss: 0.1494 - val_acc: 0.9513\n",
            "Epoch 290/300\n",
            "825/825 [==============================] - 6s 8ms/step - loss: 0.1261 - acc: 0.9557 - val_loss: 0.1509 - val_acc: 0.9513\n",
            "Epoch 291/300\n",
            "825/825 [==============================] - 6s 8ms/step - loss: 0.1292 - acc: 0.9536 - val_loss: 0.1501 - val_acc: 0.9508\n",
            "Epoch 292/300\n",
            "825/825 [==============================] - 7s 8ms/step - loss: 0.1215 - acc: 0.9567 - val_loss: 0.1498 - val_acc: 0.9505\n",
            "Epoch 293/300\n",
            "825/825 [==============================] - 6s 7ms/step - loss: 0.1263 - acc: 0.9549 - val_loss: 0.1533 - val_acc: 0.9503\n",
            "Epoch 294/300\n",
            "825/825 [==============================] - 6s 8ms/step - loss: 0.1274 - acc: 0.9563 - val_loss: 0.1502 - val_acc: 0.9508\n",
            "Epoch 295/300\n",
            "825/825 [==============================] - 6s 8ms/step - loss: 0.1282 - acc: 0.9543 - val_loss: 0.1583 - val_acc: 0.9482\n",
            "Epoch 296/300\n",
            "825/825 [==============================] - 6s 7ms/step - loss: 0.1295 - acc: 0.9548 - val_loss: 0.1489 - val_acc: 0.9508\n",
            "Epoch 297/300\n",
            "825/825 [==============================] - 6s 7ms/step - loss: 0.1267 - acc: 0.9547 - val_loss: 0.1510 - val_acc: 0.9510\n",
            "Epoch 298/300\n",
            "825/825 [==============================] - 6s 7ms/step - loss: 0.1275 - acc: 0.9527 - val_loss: 0.1504 - val_acc: 0.9507\n",
            "Epoch 299/300\n",
            "825/825 [==============================] - 6s 7ms/step - loss: 0.1223 - acc: 0.9577 - val_loss: 0.1517 - val_acc: 0.9492\n",
            "Epoch 300/300\n",
            "825/825 [==============================] - 6s 8ms/step - loss: 0.1238 - acc: 0.9554 - val_loss: 0.1502 - val_acc: 0.9515\n"
          ],
          "name": "stdout"
        }
      ]
    },
    {
      "cell_type": "code",
      "metadata": {
        "id": "7PN43Ye3nmf-"
      },
      "source": [
        "score = model.evaluate(X_test, y_test, verbose=1)\n",
        "\n",
        "print(\"Test Score:\", score[0])\n",
        "print(\"Test Accuracy:\", score[1])"
      ],
      "execution_count": null,
      "outputs": []
    },
    {
      "cell_type": "code",
      "metadata": {
        "colab": {
          "base_uri": "https://localhost:8080/",
          "height": 404
        },
        "id": "v0KURbo_pQGf",
        "outputId": "2d63c8e0-1949-422e-8137-db7918dd9a3a"
      },
      "source": [
        "import matplotlib.pyplot as plt\n",
        "from matplotlib.pyplot import figure\n",
        "\n",
        "figure(figsize=(3, 2), dpi=80)\n",
        "\n",
        "plt.plot(history.history['acc'])\n",
        "plt.plot(history.history['val_acc'])\n",
        "\n",
        "plt.title('LSTM 50-dim GloVe: model accuracy')\n",
        "plt.ylabel('accuracy')\n",
        "plt.xlabel('epoch')\n",
        "plt.ylim((0.5,1.0))\n",
        "plt.legend(['train','test'], loc='lower right')\n",
        "plt.show()\n",
        "\n",
        "plt.figure()\n",
        "figure(figsize=(3, 2), dpi=80)\n",
        "plt.plot(history.history['loss'])\n",
        "plt.plot(history.history['val_loss'])\n",
        "\n",
        "plt.title('LSTM 50-dim GloVe: model loss')\n",
        "plt.ylabel('loss')\n",
        "plt.xlabel('epoch')\n",
        "plt.ylim((0,1.0))\n",
        "plt.legend(['train','test'], loc='upper left')\n",
        "plt.show()"
      ],
      "execution_count": null,
      "outputs": [
        {
          "output_type": "display_data",
          "data": {
            "image/png": "[encoded data removed]",
            "text/plain": [
              "<Figure size 240x160 with 1 Axes>"
            ]
          },
          "metadata": {
            "tags": [],
            "needs_background": "light"
          }
        },
        {
          "output_type": "display_data",
          "data": {
            "text/plain": [
              "<Figure size 576x432 with 0 Axes>"
            ]
          },
          "metadata": {
            "tags": []
          }
        },
        {
          "output_type": "display_data",
          "data": {
            "image/png": "[encoded data removed]",
            "text/plain": [
              "<Figure size 240x160 with 1 Axes>"
            ]
          },
          "metadata": {
            "tags": [],
            "needs_background": "light"
          }
        }
      ]
    },
    {
      "cell_type": "code",
      "metadata": {
        "id": "mKngrOvoFxAT"
      },
      "source": [
        "y_test_labels = np.zeros(y_test.shape[0],)\n",
        "for i in range(y_test.shape[0]):\n",
        "  if y_test[i,0] == 1:\n",
        "    y_test_labels[i] = 0\n",
        "  elif y_test[i,1] == 1:\n",
        "    y_test_labels[i] = 1\n",
        "  elif y_test[i,2] == 1:\n",
        "    y_test_labels[i] = 2"
      ],
      "execution_count": null,
      "outputs": []
    },
    {
      "cell_type": "code",
      "metadata": {
        "id": "AT2Llcv1rQUH"
      },
      "source": [
        "predictions = model.predict(X_test)\n",
        "from sklearn.metrics import confusion_matrix\n",
        "predict_labels = np.zeros((X_test.shape[0],))\n",
        "for i in range(predictions.shape[0]):\n",
        "    idx = np.argmax(predictions[i,:])\n",
        "    predict_labels[i] = idx\n",
        "confusion_matrix(y_test_labels, predict_labels, normalize='true')"
      ],
      "execution_count": null,
      "outputs": []
    },
    {
      "cell_type": "code",
      "metadata": {
        "id": "gZH9fVeoEdu7"
      },
      "source": [
        "from sklearn.metrics import classification_report\n",
        "from sklearn import metrics\n",
        "print(classification_report(y_test_labels, predict_labels))\n",
        "print(confusion_matrix(y_test_labels, predict_labels, normalize='true'))\n",
        "print(\"Accuracy:\",metrics.accuracy_score(y_test_labels, predict_labels))"
      ],
      "execution_count": null,
      "outputs": []
    }
  ]
}