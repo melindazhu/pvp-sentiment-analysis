{
  "nbformat": 4,
  "nbformat_minor": 0,
  "metadata": {
    "colab": {
      "name": "K-Nearest Neighbors.ipynb",
      "provenance": [],
      "collapsed_sections": [],
      "toc_visible": true
    },
    "kernelspec": {
      "name": "python3",
      "display_name": "Python 3"
    },
    "language_info": {
      "name": "python"
    }
  },
  "cells": [
    {
      "cell_type": "markdown",
      "metadata": {
        "id": "6Vf-lqCfM3V1"
      },
      "source": [
        "# K-Nearest Neighbors\n"
      ]
    },
    {
      "cell_type": "markdown",
      "metadata": {
        "id": "FTnP71OAOxuG"
      },
      "source": [
        "References:\n",
        "\n",
        "How to implement k-nearest neighbors- https://appliedmachinelearning.blog/2018/01/18/conventional-approach-to-text-classification-clustering-using-k-nearest-neighbor-k-means-python-implementation/\n",
        "\n",
        "Varying n_neighbors - https://stackabuse.com/k-nearest-neighbors-algorithm-in-python-and-scikit-learn/\n",
        "\n",
        "Accuracy measure - https://www.datacamp.com/community/tutorials/k-nearest-neighbor-classification-scikit-learn"
      ]
    },
    {
      "cell_type": "markdown",
      "metadata": {
        "id": "0JOMauYJNcvA"
      },
      "source": [
        "# Pre-processing"
      ]
    },
    {
      "cell_type": "markdown",
      "metadata": {
        "id": "kEPuuOA8Mwrz"
      },
      "source": [
        "Imports and loading dataset"
      ]
    },
    {
      "cell_type": "code",
      "metadata": {
        "id": "YuNtnjnsYFRQ"
      },
      "source": [
        "import pandas as pd\n",
        "import nltk\n",
        "import re\n",
        "import numpy as np\n",
        "import warnings\n",
        "from sklearn.feature_extraction.text import TfidfVectorizer\n",
        "from sklearn.neighbors import KNeighborsClassifier\n",
        "from nltk.corpus import stopwords\n",
        "warnings.filterwarnings(\"ignore\")"
      ],
      "execution_count": 1,
      "outputs": []
    },
    {
      "cell_type": "code",
      "metadata": {
        "id": "y2IpeubkbAGC",
        "colab": {
          "base_uri": "https://localhost:8080/"
        },
        "outputId": "eb33955c-97b7-4556-c36d-9f6ccfcfad7e"
      },
      "source": [
        "nltk.download('stopwords')\n",
        "nltk.download('punkt')"
      ],
      "execution_count": 2,
      "outputs": [
        {
          "output_type": "stream",
          "text": [
            "[nltk_data] Downloading package stopwords to /root/nltk_data...\n",
            "[nltk_data]   Unzipping corpora/stopwords.zip.\n",
            "[nltk_data] Downloading package punkt to /root/nltk_data...\n",
            "[nltk_data]   Unzipping tokenizers/punkt.zip.\n"
          ],
          "name": "stdout"
        },
        {
          "output_type": "execute_result",
          "data": {
            "text/plain": [
              "True"
            ]
          },
          "metadata": {
            "tags": []
          },
          "execution_count": 2
        }
      ]
    },
    {
      "cell_type": "code",
      "metadata": {
        "id": "OOFPwaLsYStj",
        "colab": {
          "base_uri": "https://localhost:8080/",
          "height": 669
        },
        "outputId": "62d926ea-0151-4299-f238-cbe84879de90"
      },
      "source": [
        "df = pd.read_csv('train1_full.csv') \n",
        "df.head(20)"
      ],
      "execution_count": 3,
      "outputs": [
        {
          "output_type": "execute_result",
          "data": {
            "text/html": [
              "<div>\n",
              "<style scoped>\n",
              "    .dataframe tbody tr th:only-of-type {\n",
              "        vertical-align: middle;\n",
              "    }\n",
              "\n",
              "    .dataframe tbody tr th {\n",
              "        vertical-align: top;\n",
              "    }\n",
              "\n",
              "    .dataframe thead th {\n",
              "        text-align: right;\n",
              "    }\n",
              "</style>\n",
              "<table border=\"1\" class=\"dataframe\">\n",
              "  <thead>\n",
              "    <tr style=\"text-align: right;\">\n",
              "      <th></th>\n",
              "      <th>comment_text</th>\n",
              "      <th>label</th>\n",
              "    </tr>\n",
              "  </thead>\n",
              "  <tbody>\n",
              "    <tr>\n",
              "      <th>0</th>\n",
              "      <td>useless all the game</td>\n",
              "      <td>1</td>\n",
              "    </tr>\n",
              "    <tr>\n",
              "      <th>1</th>\n",
              "      <td>DUDE GO FUCK U</td>\n",
              "      <td>1</td>\n",
              "    </tr>\n",
              "    <tr>\n",
              "      <th>2</th>\n",
              "      <td>yes i ment that</td>\n",
              "      <td>0</td>\n",
              "    </tr>\n",
              "    <tr>\n",
              "      <th>3</th>\n",
              "      <td>pls surrender</td>\n",
              "      <td>1</td>\n",
              "    </tr>\n",
              "    <tr>\n",
              "      <th>4</th>\n",
              "      <td>hi GL &amp; HF guys</td>\n",
              "      <td>0</td>\n",
              "    </tr>\n",
              "    <tr>\n",
              "      <th>5</th>\n",
              "      <td>fk u solo don't kill me voli</td>\n",
              "      <td>1</td>\n",
              "    </tr>\n",
              "    <tr>\n",
              "      <th>6</th>\n",
              "      <td>i think you should go first and fuck your mama</td>\n",
              "      <td>2</td>\n",
              "    </tr>\n",
              "    <tr>\n",
              "      <th>7</th>\n",
              "      <td>so bad hahah</td>\n",
              "      <td>1</td>\n",
              "    </tr>\n",
              "    <tr>\n",
              "      <th>8</th>\n",
              "      <td>worst team ever...</td>\n",
              "      <td>1</td>\n",
              "    </tr>\n",
              "    <tr>\n",
              "      <th>9</th>\n",
              "      <td>yi</td>\n",
              "      <td>0</td>\n",
              "    </tr>\n",
              "    <tr>\n",
              "      <th>10</th>\n",
              "      <td>very bad</td>\n",
              "      <td>1</td>\n",
              "    </tr>\n",
              "    <tr>\n",
              "      <th>11</th>\n",
              "      <td>QQ, flame, trashtalk</td>\n",
              "      <td>1</td>\n",
              "    </tr>\n",
              "    <tr>\n",
              "      <th>12</th>\n",
              "      <td>your friend suck in top</td>\n",
              "      <td>1</td>\n",
              "    </tr>\n",
              "    <tr>\n",
              "      <th>13</th>\n",
              "      <td>PLS LOOK YOU SCORE</td>\n",
              "      <td>0</td>\n",
              "    </tr>\n",
              "    <tr>\n",
              "      <th>14</th>\n",
              "      <td>you can solo this lane</td>\n",
              "      <td>0</td>\n",
              "    </tr>\n",
              "    <tr>\n",
              "      <th>15</th>\n",
              "      <td>go jungle</td>\n",
              "      <td>0</td>\n",
              "    </tr>\n",
              "    <tr>\n",
              "      <th>16</th>\n",
              "      <td>√∫stop pinging</td>\n",
              "      <td>0</td>\n",
              "    </tr>\n",
              "    <tr>\n",
              "      <th>17</th>\n",
              "      <td>lol xD</td>\n",
              "      <td>0</td>\n",
              "    </tr>\n",
              "    <tr>\n",
              "      <th>18</th>\n",
              "      <td>ahri</td>\n",
              "      <td>0</td>\n",
              "    </tr>\n",
              "    <tr>\n",
              "      <th>19</th>\n",
              "      <td>how you will do this??</td>\n",
              "      <td>0</td>\n",
              "    </tr>\n",
              "  </tbody>\n",
              "</table>\n",
              "</div>"
            ],
            "text/plain": [
              "                                      comment_text  label\n",
              "0                             useless all the game      1\n",
              "1                                   DUDE GO FUCK U      1\n",
              "2                                  yes i ment that      0\n",
              "3                                    pls surrender      1\n",
              "4                                  hi GL & HF guys      0\n",
              "5                     fk u solo don't kill me voli      1\n",
              "6   i think you should go first and fuck your mama      2\n",
              "7                                     so bad hahah      1\n",
              "8                               worst team ever...      1\n",
              "9                                               yi      0\n",
              "10                                        very bad      1\n",
              "11                            QQ, flame, trashtalk      1\n",
              "12                         your friend suck in top      1\n",
              "13                              PLS LOOK YOU SCORE      0\n",
              "14                          you can solo this lane      0\n",
              "15                                       go jungle      0\n",
              "16                                  √∫stop pinging      0\n",
              "17                                          lol xD      0\n",
              "18                                            ahri      0\n",
              "19                          how you will do this??      0"
            ]
          },
          "metadata": {
            "tags": []
          },
          "execution_count": 3
        }
      ]
    },
    {
      "cell_type": "code",
      "metadata": {
        "id": "RzrcBXLrZL0Z"
      },
      "source": [
        "# Here we transform the documents into sentences\n",
        "def preprocess(df):\n",
        "    df['comment_text'] = df.comment_text.str.lower()\n",
        "    df['document_sentences'] = df.comment_text.str.split('.') \n",
        "    df['tokenized_sentences'] = list(map(lambda sentences: list(map(nltk.word_tokenize, sentences)), df.document_sentences))  \n",
        "    df['tokenized_sentences'] = list(map(lambda sentences: list(filter(lambda lst: lst, sentences)), df.tokenized_sentences))\n",
        "\n",
        "preprocess(df)"
      ],
      "execution_count": 4,
      "outputs": []
    },
    {
      "cell_type": "markdown",
      "metadata": {
        "id": "_-RzvtoSaI0c"
      },
      "source": [
        "Split data into training and test sets"
      ]
    },
    {
      "cell_type": "code",
      "metadata": {
        "id": "HlG5SC_EZWU6"
      },
      "source": [
        "from sklearn.model_selection import train_test_split\n",
        "train, test, y_train, y_test = train_test_split(df.drop(columns='label'), df['label'], test_size=.2)"
      ],
      "execution_count": 5,
      "outputs": []
    },
    {
      "cell_type": "code",
      "metadata": {
        "id": "Q9cIgWYjlyvO"
      },
      "source": [
        "def remove_items(test_list, item):\n",
        "    # utility function to remove stop words\n",
        "    for i in test_list:\n",
        "        if(i == item):\n",
        "            test_list.remove(i)\n",
        "  \n",
        "    return test_list"
      ],
      "execution_count": 6,
      "outputs": []
    },
    {
      "cell_type": "code",
      "metadata": {
        "id": "X_ovXsHol0ez"
      },
      "source": [
        "def preprocess_text(sen):\n",
        "    sentence = sen.lower()\n",
        "    # Remove punctuations and numbers\n",
        "    sentence = re.sub('[^a-zA-Z]', ' ', sentence)\n",
        "\n",
        "    # Single character removal\n",
        "    sentence = re.sub(r\"\\s+[a-zA-Z]\\s+\", ' ', sentence)\n",
        "\n",
        "    # Removing multiple spaces\n",
        "    sentence = re.sub(r'\\s+', ' ', sentence)\n",
        "\n",
        "    # Remove extra spaces\n",
        "    sentence = re.sub(' +', ' ', sentence)\n",
        "    sentence_list = sentence.split()\n",
        "\n",
        "    # Removing stop words\n",
        "    stop_words = ['u', 'ur', 'im', 'can', 'cant', 'i', 'me', 'my', 'myself', 'we', 'go', 'our', 'ours', 'ourselves', 'you', \"youre\", \"youve\", \"youll\", \"youd\", 'your', 'yours', 'yourself', 'yourselves', 'he', 'him', 'his', 'himself', 'it', 'its', 'itself', 'they', 'them', 'their', 'theirs', 'themselves', 'what', 'which', 'who', 'whom', 'this', 'that', \"thatll\", 'these', 'those', 'am', 'is', 'are', 'was', 'were', 'be', 'been', 'being', 'have', 'has', 'had', 'having', 'do', 'does', 'did', 'doing', 'a', 'an', 'the', 'and', 'but', 'if', 'or', 'because', 'as', 'until', 'while', 'of', 'at', 'by', 'for', 'with', 'about', 'against', 'between', 'into', 'through', 'during', 'before', 'after', 'above', 'below', 'to', 'from', 'up', 'down', 'in', 'out', 'on', 'off', 'over', 'then', 'once', 'here', 'there', 'when', 'where', 'why', 'how', 'all', 'any', 'both', 'each', 'few', 'more', 'most', 'other', 'some', 'such', 'no', 'nor', 'not', 'only', 'own', 'same', 'so', 'than', 'too', 'very', 's', 't', 'can', 'will', 'just', 'don', \"don't\", 'should', \"shouldve\", 'now', 'd', 'll', 'm', 'o', 're', 'r', 'ur', 've', 'y', 'ain', 'aren', \"arent\", 'couldn', \"couldnt\", 'didn', \"didnt\", 'doesn', \"doesnt\", 'hadn', \"hadnt\", 'hasn', \"hasnt\", 'haven', \"havent\", 'isn', \"isnt\", 'ma', 'mightn', \"mightnt\", 'mustn', \"mustnt\", 'needn', \"neednt\", 'shan', \"shant\", 'shouldn', \"shouldnt\", 'wasn', \"wasnt\", 'weren', \"werent\", 'won', \"wont\", 'wouldn', \"wouldnt\"]\n",
        "    for stop_word in stop_words:\n",
        "      if stop_word in sentence_list:\n",
        "        sentence_list = remove_items(sentence_list, stop_word)\n",
        "\n",
        "    # Join back to list\n",
        "    sentence = \" \".join(sentence_list)\n",
        "\n",
        "    # Remove extra spaces\n",
        "    sentence = re.sub(' +', ' ', sentence)\n",
        "    return sentence.lstrip()"
      ],
      "execution_count": 7,
      "outputs": []
    },
    {
      "cell_type": "markdown",
      "metadata": {
        "id": "Kcq-m6qHNpxn"
      },
      "source": [
        "Get a list of all messages and labels"
      ]
    },
    {
      "cell_type": "code",
      "metadata": {
        "id": "Z1NSdlRdl3UK"
      },
      "source": [
        "X_train = []\n",
        "sentences = list(train[\"comment_text\"])\n",
        "for sen in sentences:\n",
        "    X_train.append(preprocess_text(sen))  "
      ],
      "execution_count": 8,
      "outputs": []
    },
    {
      "cell_type": "code",
      "metadata": {
        "id": "UecOcQczmm3K"
      },
      "source": [
        "X_test = []\n",
        "sentences1 = list(test[\"comment_text\"])\n",
        "for sen in sentences1:\n",
        "    X_test.append(preprocess_text(sen))"
      ],
      "execution_count": 9,
      "outputs": []
    },
    {
      "cell_type": "markdown",
      "metadata": {
        "id": "1Tn40FYcNxqa"
      },
      "source": [
        "# Tokenizing"
      ]
    },
    {
      "cell_type": "markdown",
      "metadata": {
        "id": "o_VT7rCyN1IZ"
      },
      "source": [
        "Use the TfidfVectorizer class to convert the sentences into matrices (the X_train and X_test matrices)\n",
        "\n"
      ]
    },
    {
      "cell_type": "code",
      "metadata": {
        "id": "UHcJeR6em2fL"
      },
      "source": [
        "vectorizer = TfidfVectorizer(stop_words='english')\n",
        "X_train_matrix = vectorizer.fit_transform(X_train)\n",
        "X_test_matrix = vectorizer.transform(X_test)"
      ],
      "execution_count": 10,
      "outputs": []
    },
    {
      "cell_type": "markdown",
      "metadata": {
        "id": "V2HPAsOYOhrU"
      },
      "source": [
        "# Training and Evaluation"
      ]
    },
    {
      "cell_type": "markdown",
      "metadata": {
        "id": "ubwfCBA8OcY0"
      },
      "source": [
        "Train and predict with the model for 10 different values of n_neighbors"
      ]
    },
    {
      "cell_type": "code",
      "metadata": {
        "id": "AIdxAHKeZsJs",
        "colab": {
          "base_uri": "https://localhost:8080/"
        },
        "outputId": "8f60ab00-b01a-4ac8-e131-f9eddaf0e7ed"
      },
      "source": [
        "from sklearn import metrics\n",
        "from sklearn.metrics import confusion_matrix\n",
        "from sklearn.metrics import classification_report\n",
        "\n",
        "accuracy = []\n",
        "matrices = [[]]\n",
        "reports = []\n",
        "\n",
        "for i in range(1, 11):\n",
        "    knn = KNeighborsClassifier(n_neighbors=i)\n",
        "    knn.fit(X_train_matrix,y_train)\n",
        "    prediction = knn.predict(X_test_matrix)\n",
        "    accuracy.append(metrics.accuracy_score(y_test, prediction))\n",
        "    matrices.append(confusion_matrix(y_test, prediction, normalize='true'))\n",
        "    reports.append(classification_report(y_test,prediction))\n",
        "\n",
        "matrices.remove([])\n",
        "for i in range(len(matrices)):\n",
        "  print(\"n_neighbors = \" + str(i + 1) + \":\", \" \")\n",
        "  print(\"Accuracy: \" + str(accuracy[i]))\n",
        "  print(matrices[i])\n",
        "  print(reports[i])\n",
        "  print(\" \")"
      ],
      "execution_count": 11,
      "outputs": [
        {
          "output_type": "stream",
          "text": [
            "n_neighbors = 1:  \n",
            "Accuracy: 0.9895995032598572\n",
            "[[0.99475203 0.00524797 0.        ]\n",
            " [0.01103565 0.98471986 0.00424448]\n",
            " [0.         0.04       0.96      ]]\n",
            "              precision    recall  f1-score   support\n",
            "\n",
            "           0       0.99      0.99      0.99      3811\n",
            "           1       0.99      0.98      0.99      2356\n",
            "           2       0.96      0.96      0.96       275\n",
            "\n",
            "    accuracy                           0.99      6442\n",
            "   macro avg       0.98      0.98      0.98      6442\n",
            "weighted avg       0.99      0.99      0.99      6442\n",
            "\n",
            " \n",
            "n_neighbors = 2:  \n",
            "Accuracy: 0.9695746662527166\n",
            "[[0.99606403 0.00393597 0.        ]\n",
            " [0.06621392 0.93081494 0.00297114]\n",
            " [0.01090909 0.05454545 0.93454545]]\n",
            "              precision    recall  f1-score   support\n",
            "\n",
            "           0       0.96      1.00      0.98      3811\n",
            "           1       0.99      0.93      0.96      2356\n",
            "           2       0.97      0.93      0.95       275\n",
            "\n",
            "    accuracy                           0.97      6442\n",
            "   macro avg       0.97      0.95      0.96      6442\n",
            "weighted avg       0.97      0.97      0.97      6442\n",
            "\n",
            " \n",
            "n_neighbors = 3:  \n",
            "Accuracy: 0.9684880471903136\n",
            "[[0.99055366 0.00944634 0.        ]\n",
            " [0.06112054 0.93463497 0.00424448]\n",
            " [0.01090909 0.03636364 0.95272727]]\n",
            "              precision    recall  f1-score   support\n",
            "\n",
            "           0       0.96      0.99      0.98      3811\n",
            "           1       0.98      0.93      0.96      2356\n",
            "           2       0.96      0.95      0.96       275\n",
            "\n",
            "    accuracy                           0.97      6442\n",
            "   macro avg       0.97      0.96      0.96      6442\n",
            "weighted avg       0.97      0.97      0.97      6442\n",
            "\n",
            " \n",
            "n_neighbors = 4:  \n",
            "Accuracy: 0.9098106178205526\n",
            "[[0.99344004 0.00655996 0.        ]\n",
            " [0.2033107  0.79244482 0.00424448]\n",
            " [0.12727273 0.11636364 0.75636364]]\n",
            "              precision    recall  f1-score   support\n",
            "\n",
            "           0       0.88      0.99      0.93      3811\n",
            "           1       0.97      0.79      0.87      2356\n",
            "           2       0.95      0.76      0.84       275\n",
            "\n",
            "    accuracy                           0.91      6442\n",
            "   macro avg       0.93      0.85      0.88      6442\n",
            "weighted avg       0.92      0.91      0.91      6442\n",
            "\n",
            " \n",
            "n_neighbors = 5:  \n",
            "Accuracy: 0.9060850667494567\n",
            "[[9.77958541e-01 2.15166623e-02 5.24796641e-04]\n",
            " [1.88455008e-01 8.03056027e-01 8.48896435e-03]\n",
            " [1.27272727e-01 8.00000000e-02 7.92727273e-01]]\n",
            "              precision    recall  f1-score   support\n",
            "\n",
            "           0       0.89      0.98      0.93      3811\n",
            "           1       0.95      0.80      0.87      2356\n",
            "           2       0.91      0.79      0.85       275\n",
            "\n",
            "    accuracy                           0.91      6442\n",
            "   macro avg       0.91      0.86      0.88      6442\n",
            "weighted avg       0.91      0.91      0.90      6442\n",
            "\n",
            " \n",
            "n_neighbors = 6:  \n",
            "Accuracy: 0.8402669978267618\n",
            "[[0.98268171 0.01731829 0.        ]\n",
            " [0.35229202 0.64049236 0.00721562]\n",
            " [0.28363636 0.13818182 0.57818182]]\n",
            "              precision    recall  f1-score   support\n",
            "\n",
            "           0       0.80      0.98      0.88      3811\n",
            "           1       0.94      0.64      0.76      2356\n",
            "           2       0.90      0.58      0.71       275\n",
            "\n",
            "    accuracy                           0.84      6442\n",
            "   macro avg       0.88      0.73      0.78      6442\n",
            "weighted avg       0.86      0.84      0.83      6442\n",
            "\n",
            " \n",
            "n_neighbors = 7:  \n",
            "Accuracy: 0.8384042222912139\n",
            "[[0.9685122  0.03043821 0.00104959]\n",
            " [0.3344652  0.6540747  0.0114601 ]\n",
            " [0.27272727 0.11272727 0.61454545]]\n",
            "              precision    recall  f1-score   support\n",
            "\n",
            "           0       0.81      0.97      0.88      3811\n",
            "           1       0.91      0.65      0.76      2356\n",
            "           2       0.84      0.61      0.71       275\n",
            "\n",
            "    accuracy                           0.84      6442\n",
            "   macro avg       0.86      0.75      0.79      6442\n",
            "weighted avg       0.85      0.84      0.83      6442\n",
            "\n",
            " \n",
            "n_neighbors = 8:  \n",
            "Accuracy: 0.8401117665321329\n",
            "[[9.83468906e-01 1.60062976e-02 5.24796641e-04]\n",
            " [3.56112054e-01 6.34550085e-01 9.33786078e-03]\n",
            " [2.80000000e-01 1.05454545e-01 6.14545455e-01]]\n",
            "              precision    recall  f1-score   support\n",
            "\n",
            "           0       0.80      0.98      0.88      3811\n",
            "           1       0.94      0.63      0.76      2356\n",
            "           2       0.88      0.61      0.72       275\n",
            "\n",
            "    accuracy                           0.84      6442\n",
            "   macro avg       0.87      0.74      0.79      6442\n",
            "weighted avg       0.86      0.84      0.83      6442\n",
            "\n",
            " \n",
            "n_neighbors = 9:  \n",
            "Accuracy: 0.8491151816206147\n",
            "[[9.81107321e-01 1.83678824e-02 5.24796641e-04]\n",
            " [3.28947368e-01 6.61290323e-01 9.76230900e-03]\n",
            " [2.80000000e-01 9.09090909e-02 6.29090909e-01]]\n",
            "              precision    recall  f1-score   support\n",
            "\n",
            "           0       0.81      0.98      0.89      3811\n",
            "           1       0.94      0.66      0.78      2356\n",
            "           2       0.87      0.63      0.73       275\n",
            "\n",
            "    accuracy                           0.85      6442\n",
            "   macro avg       0.88      0.76      0.80      6442\n",
            "weighted avg       0.86      0.85      0.84      6442\n",
            "\n",
            " \n",
            "n_neighbors = 10:  \n",
            "Accuracy: 0.8388699161751009\n",
            "[[9.82944109e-01 1.67934925e-02 2.62398321e-04]\n",
            " [3.58234295e-01 6.33276740e-01 8.48896435e-03]\n",
            " [2.98181818e-01 9.81818182e-02 6.03636364e-01]]\n",
            "              precision    recall  f1-score   support\n",
            "\n",
            "           0       0.80      0.98      0.88      3811\n",
            "           1       0.94      0.63      0.76      2356\n",
            "           2       0.89      0.60      0.72       275\n",
            "\n",
            "    accuracy                           0.84      6442\n",
            "   macro avg       0.88      0.74      0.79      6442\n",
            "weighted avg       0.86      0.84      0.83      6442\n",
            "\n",
            " \n"
          ],
          "name": "stdout"
        }
      ]
    },
    {
      "cell_type": "code",
      "metadata": {
        "id": "vG9QP_8_rRyZ",
        "colab": {
          "base_uri": "https://localhost:8080/",
          "height": 295
        },
        "outputId": "27427e73-7048-4719-d1b3-1e9ac46b5bc7"
      },
      "source": [
        "import matplotlib.pyplot as plt\n",
        "\n",
        "plt.plot(range(1, 11), accuracy, color='red', linestyle='dashed', marker='o',\n",
        "         markerfacecolor='blue', markersize=10)\n",
        "plt.title('Accuracy Rate K Value')\n",
        "plt.xlabel('K Value')\n",
        "plt.ylabel('Accuracy')\n",
        "plt.show()"
      ],
      "execution_count": 12,
      "outputs": [
        {
          "output_type": "display_data",
          "data": {
            "image/png": "[encoded data removed]",
            "text/plain": [
              "<Figure size 432x288 with 1 Axes>"
            ]
          },
          "metadata": {
            "tags": [],
            "needs_background": "light"
          }
        }
      ]
    }
  ]
}